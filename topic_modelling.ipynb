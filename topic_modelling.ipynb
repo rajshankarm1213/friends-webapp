{
 "cells": [
  {
   "cell_type": "code",
   "execution_count": 51,
   "metadata": {},
   "outputs": [],
   "source": [
    "import pandas as pd\n",
    "from bertopic import BERTopic as bt\n",
    "from sklearn.feature_extraction.text import CountVectorizer\n",
    "from nltk.corpus import stopwords\n",
    "import nltk\n",
    "import re"
   ]
  },
  {
   "cell_type": "code",
   "execution_count": 52,
   "metadata": {},
   "outputs": [
    {
     "name": "stderr",
     "output_type": "stream",
     "text": [
      "[nltk_data] Downloading package stopwords to\n",
      "[nltk_data]     C:\\Users\\mahes\\AppData\\Roaming\\nltk_data...\n",
      "[nltk_data]   Unzipping corpora\\stopwords.zip.\n",
      "[nltk_data] Downloading package wordnet to\n",
      "[nltk_data]     C:\\Users\\mahes\\AppData\\Roaming\\nltk_data...\n"
     ]
    },
    {
     "data": {
      "text/plain": [
       "True"
      ]
     },
     "execution_count": 52,
     "metadata": {},
     "output_type": "execute_result"
    }
   ],
   "source": [
    "nltk.download('stopwords')\n",
    "nltk.download('wordnet')"
   ]
  },
  {
   "cell_type": "code",
   "execution_count": 53,
   "metadata": {},
   "outputs": [],
   "source": [
    "stop_words = set(stopwords.words('english'))"
   ]
  },
  {
   "cell_type": "code",
   "execution_count": null,
   "metadata": {},
   "outputs": [],
   "source": []
  },
  {
   "cell_type": "code",
   "execution_count": 82,
   "metadata": {},
   "outputs": [],
   "source": [
    "data = pd.read_csv('s1-s5_emotions.csv')"
   ]
  },
  {
   "cell_type": "code",
   "execution_count": 83,
   "metadata": {},
   "outputs": [],
   "source": [
    "data = data.reset_index().rename(columns={'index': 'timestamp'})"
   ]
  },
  {
   "cell_type": "code",
   "execution_count": 84,
   "metadata": {},
   "outputs": [
    {
     "data": {
      "text/html": [
       "<div>\n",
       "<style scoped>\n",
       "    .dataframe tbody tr th:only-of-type {\n",
       "        vertical-align: middle;\n",
       "    }\n",
       "\n",
       "    .dataframe tbody tr th {\n",
       "        vertical-align: top;\n",
       "    }\n",
       "\n",
       "    .dataframe thead th {\n",
       "        text-align: right;\n",
       "    }\n",
       "</style>\n",
       "<table border=\"1\" class=\"dataframe\">\n",
       "  <thead>\n",
       "    <tr style=\"text-align: right;\">\n",
       "      <th></th>\n",
       "      <th>timestamp</th>\n",
       "      <th>author</th>\n",
       "      <th>episode_number</th>\n",
       "      <th>episode_title</th>\n",
       "      <th>quote</th>\n",
       "      <th>quote_order</th>\n",
       "      <th>season</th>\n",
       "      <th>top_emotion_1</th>\n",
       "      <th>prob_1</th>\n",
       "      <th>top_emotion_2</th>\n",
       "      <th>prob_2</th>\n",
       "    </tr>\n",
       "  </thead>\n",
       "  <tbody>\n",
       "    <tr>\n",
       "      <th>0</th>\n",
       "      <td>0</td>\n",
       "      <td>Monica</td>\n",
       "      <td>1</td>\n",
       "      <td>Monica Gets A Roommate</td>\n",
       "      <td>There's nothing to tell! He's just some guy I ...</td>\n",
       "      <td>0</td>\n",
       "      <td>1</td>\n",
       "      <td>relaxed</td>\n",
       "      <td>0.455074</td>\n",
       "      <td>content</td>\n",
       "      <td>0.193351</td>\n",
       "    </tr>\n",
       "    <tr>\n",
       "      <th>1</th>\n",
       "      <td>1</td>\n",
       "      <td>Joey</td>\n",
       "      <td>1</td>\n",
       "      <td>Monica Gets A Roommate</td>\n",
       "      <td>C'mon, you're going out with the guy! There's ...</td>\n",
       "      <td>1</td>\n",
       "      <td>1</td>\n",
       "      <td>tense</td>\n",
       "      <td>0.199686</td>\n",
       "      <td>surprised</td>\n",
       "      <td>0.155179</td>\n",
       "    </tr>\n",
       "    <tr>\n",
       "      <th>2</th>\n",
       "      <td>2</td>\n",
       "      <td>Chandler</td>\n",
       "      <td>1</td>\n",
       "      <td>Monica Gets A Roommate</td>\n",
       "      <td>All right Joey, be nice. So does he have a hum...</td>\n",
       "      <td>2</td>\n",
       "      <td>1</td>\n",
       "      <td>confused</td>\n",
       "      <td>0.389611</td>\n",
       "      <td>aroused</td>\n",
       "      <td>0.197605</td>\n",
       "    </tr>\n",
       "    <tr>\n",
       "      <th>3</th>\n",
       "      <td>3</td>\n",
       "      <td>Phoebe</td>\n",
       "      <td>1</td>\n",
       "      <td>Monica Gets A Roommate</td>\n",
       "      <td>Wait, does he eat chalk?</td>\n",
       "      <td>3</td>\n",
       "      <td>1</td>\n",
       "      <td>confused</td>\n",
       "      <td>0.439212</td>\n",
       "      <td>surprised</td>\n",
       "      <td>0.289001</td>\n",
       "    </tr>\n",
       "    <tr>\n",
       "      <th>4</th>\n",
       "      <td>4</td>\n",
       "      <td>Phoebe</td>\n",
       "      <td>1</td>\n",
       "      <td>Monica Gets A Roommate</td>\n",
       "      <td>Just, 'cause, I don't want her to go through w...</td>\n",
       "      <td>4</td>\n",
       "      <td>1</td>\n",
       "      <td>surprised</td>\n",
       "      <td>0.202174</td>\n",
       "      <td>confused</td>\n",
       "      <td>0.194774</td>\n",
       "    </tr>\n",
       "  </tbody>\n",
       "</table>\n",
       "</div>"
      ],
      "text/plain": [
       "   timestamp    author  episode_number           episode_title  \\\n",
       "0          0    Monica               1  Monica Gets A Roommate   \n",
       "1          1      Joey               1  Monica Gets A Roommate   \n",
       "2          2  Chandler               1  Monica Gets A Roommate   \n",
       "3          3    Phoebe               1  Monica Gets A Roommate   \n",
       "4          4    Phoebe               1  Monica Gets A Roommate   \n",
       "\n",
       "                                               quote  quote_order  season  \\\n",
       "0  There's nothing to tell! He's just some guy I ...            0       1   \n",
       "1  C'mon, you're going out with the guy! There's ...            1       1   \n",
       "2  All right Joey, be nice. So does he have a hum...            2       1   \n",
       "3                           Wait, does he eat chalk?            3       1   \n",
       "4  Just, 'cause, I don't want her to go through w...            4       1   \n",
       "\n",
       "  top_emotion_1    prob_1 top_emotion_2    prob_2  \n",
       "0       relaxed  0.455074       content  0.193351  \n",
       "1         tense  0.199686     surprised  0.155179  \n",
       "2      confused  0.389611       aroused  0.197605  \n",
       "3      confused  0.439212     surprised  0.289001  \n",
       "4     surprised  0.202174      confused  0.194774  "
      ]
     },
     "execution_count": 84,
     "metadata": {},
     "output_type": "execute_result"
    }
   ],
   "source": [
    "data.head()"
   ]
  },
  {
   "cell_type": "code",
   "execution_count": 85,
   "metadata": {},
   "outputs": [],
   "source": [
    "timestamps = data['season'].tolist()"
   ]
  },
  {
   "cell_type": "code",
   "execution_count": 93,
   "metadata": {},
   "outputs": [],
   "source": [
    "quotes = data['quote']"
   ]
  },
  {
   "cell_type": "code",
   "execution_count": 94,
   "metadata": {},
   "outputs": [],
   "source": [
    "def preprocess_text(text):\n",
    "    text = re.sub(r'[^\\w\\s]', '', text.lower())\n",
    "    tokens = [word for word in text.split() if word not in stop_words and len(word) > 2]\n",
    "    chars = data['author'].unique().tolist()\n",
    "    for char in chars:\n",
    "        text = text.replace(char.lower(), '')\n",
    "    return ' '.join(tokens)"
   ]
  },
  {
   "cell_type": "code",
   "execution_count": 95,
   "metadata": {},
   "outputs": [],
   "source": [
    "quotes = quotes.apply(preprocess_text)"
   ]
  },
  {
   "cell_type": "code",
   "execution_count": 96,
   "metadata": {},
   "outputs": [],
   "source": [
    "vectorizer_model = CountVectorizer(ngram_range=(1,3), stop_words = 'english')"
   ]
  },
  {
   "cell_type": "code",
   "execution_count": 38,
   "metadata": {},
   "outputs": [],
   "source": [
    "# Applying regex on the quotes\n",
    "quotes = quotes.str.replace(r'[^\\w\\s]', '') # remove punctuation\n",
    "quotes = quotes.str.replace(r'\\d+', '') # remove numbers\n",
    "quotes = quotes.str.replace(r'\\n', '') # remove newlines\n",
    "quotes = quotes.str.lower() # lowercase\n",
    "quotes = quotes.str.strip() # remove leading/trailing spaces\n",
    "# remove character names from quotes\n",
    "chars = data['author'].unique().tolist()\n",
    "chars = [char.lower() for char in chars]\n",
    "for char in chars:\n",
    "    quotes = quotes.str.replace(char, '')"
   ]
  },
  {
   "cell_type": "code",
   "execution_count": 97,
   "metadata": {},
   "outputs": [],
   "source": [
    "quotes = quotes.tolist()"
   ]
  },
  {
   "cell_type": "code",
   "execution_count": 98,
   "metadata": {},
   "outputs": [],
   "source": [
    "dynamic_topic_model = bt(verbose=True, vectorizer_model=vectorizer_model, n_gram_range=(1,3), min_topic_size=5, nr_topics='auto')"
   ]
  },
  {
   "cell_type": "code",
   "execution_count": 99,
   "metadata": {},
   "outputs": [
    {
     "name": "stderr",
     "output_type": "stream",
     "text": [
      "2024-11-02 17:22:17,825 - BERTopic - Embedding - Transforming documents to embeddings.\n"
     ]
    },
    {
     "data": {
      "application/vnd.jupyter.widget-view+json": {
       "model_id": "302560ec1d634c58aaf77892bb61969d",
       "version_major": 2,
       "version_minor": 0
      },
      "text/plain": [
       "Batches:   0%|          | 0/725 [00:00<?, ?it/s]"
      ]
     },
     "metadata": {},
     "output_type": "display_data"
    },
    {
     "name": "stderr",
     "output_type": "stream",
     "text": [
      "2024-11-02 17:22:31,563 - BERTopic - Embedding - Completed ✓\n",
      "2024-11-02 17:22:31,565 - BERTopic - Dimensionality - Fitting the dimensionality reduction algorithm\n",
      "2024-11-02 17:22:43,887 - BERTopic - Dimensionality - Completed ✓\n",
      "2024-11-02 17:22:43,887 - BERTopic - Cluster - Start clustering the reduced embeddings\n",
      "2024-11-02 17:22:52,117 - BERTopic - Cluster - Completed ✓\n",
      "2024-11-02 17:22:52,118 - BERTopic - Representation - Extracting topics from clusters using representation models.\n",
      "2024-11-02 17:22:53,918 - BERTopic - Representation - Completed ✓\n",
      "2024-11-02 17:22:53,926 - BERTopic - Topic reduction - Reducing number of topics\n",
      "2024-11-02 17:22:55,970 - BERTopic - Topic reduction - Reduced number of topics from 744 to 519\n"
     ]
    }
   ],
   "source": [
    "topics, probs = dynamic_topic_model.fit_transform(quotes)"
   ]
  },
  {
   "cell_type": "code",
   "execution_count": 100,
   "metadata": {},
   "outputs": [
    {
     "name": "stderr",
     "output_type": "stream",
     "text": [
      "5it [00:19,  3.81s/it]\n"
     ]
    }
   ],
   "source": [
    "topics_over_time = dynamic_topic_model.topics_over_time(quotes, timestamps = data['season'], nr_bins=10)"
   ]
  },
  {
   "cell_type": "code",
   "execution_count": 101,
   "metadata": {},
   "outputs": [
    {
     "data": {
      "text/html": [
       "<div>\n",
       "<style scoped>\n",
       "    .dataframe tbody tr th:only-of-type {\n",
       "        vertical-align: middle;\n",
       "    }\n",
       "\n",
       "    .dataframe tbody tr th {\n",
       "        vertical-align: top;\n",
       "    }\n",
       "\n",
       "    .dataframe thead th {\n",
       "        text-align: right;\n",
       "    }\n",
       "</style>\n",
       "<table border=\"1\" class=\"dataframe\">\n",
       "  <thead>\n",
       "    <tr style=\"text-align: right;\">\n",
       "      <th></th>\n",
       "      <th>Topic</th>\n",
       "      <th>Words</th>\n",
       "      <th>Frequency</th>\n",
       "      <th>Timestamp</th>\n",
       "    </tr>\n",
       "  </thead>\n",
       "  <tbody>\n",
       "    <tr>\n",
       "      <th>0</th>\n",
       "      <td>-1</td>\n",
       "      <td>rachel, little, joey, chandler, know</td>\n",
       "      <td>1308</td>\n",
       "      <td>0.996</td>\n",
       "    </tr>\n",
       "    <tr>\n",
       "      <th>1</th>\n",
       "      <td>0</td>\n",
       "      <td>ross, monica, listens, chandler, joey</td>\n",
       "      <td>568</td>\n",
       "      <td>0.996</td>\n",
       "    </tr>\n",
       "    <tr>\n",
       "      <th>2</th>\n",
       "      <td>1</td>\n",
       "      <td>partay andr, partay, andr, kay, naa kay kay</td>\n",
       "      <td>326</td>\n",
       "      <td>0.996</td>\n",
       "    </tr>\n",
       "    <tr>\n",
       "      <th>3</th>\n",
       "      <td>2</td>\n",
       "      <td>hey hey, hey hey hey, hey, hello hey, hey hello</td>\n",
       "      <td>77</td>\n",
       "      <td>0.996</td>\n",
       "    </tr>\n",
       "    <tr>\n",
       "      <th>4</th>\n",
       "      <td>3</td>\n",
       "      <td>yeah yeah yeah, yeah yeah, yeah, yeah yep, yea...</td>\n",
       "      <td>50</td>\n",
       "      <td>0.996</td>\n",
       "    </tr>\n",
       "    <tr>\n",
       "      <th>...</th>\n",
       "      <td>...</td>\n",
       "      <td>...</td>\n",
       "      <td>...</td>\n",
       "      <td>...</td>\n",
       "    </tr>\n",
       "    <tr>\n",
       "      <th>1919</th>\n",
       "      <td>471</td>\n",
       "      <td>woman standing, woman standing glares, walks r...</td>\n",
       "      <td>1</td>\n",
       "      <td>4.600</td>\n",
       "    </tr>\n",
       "    <tr>\n",
       "      <th>1920</th>\n",
       "      <td>474</td>\n",
       "      <td>wont hell, wont hell hole, wont wont hell, arr...</td>\n",
       "      <td>1</td>\n",
       "      <td>4.600</td>\n",
       "    </tr>\n",
       "    <tr>\n",
       "      <th>1921</th>\n",
       "      <td>475</td>\n",
       "      <td>fine happy, fine happy anniversary, happy anni...</td>\n",
       "      <td>1</td>\n",
       "      <td>4.600</td>\n",
       "    </tr>\n",
       "    <tr>\n",
       "      <th>1922</th>\n",
       "      <td>489</td>\n",
       "      <td>yeah wanted make, wanted make dramatic, dramat...</td>\n",
       "      <td>1</td>\n",
       "      <td>4.600</td>\n",
       "    </tr>\n",
       "    <tr>\n",
       "      <th>1923</th>\n",
       "      <td>494</td>\n",
       "      <td>stop stop, stop, stop stop stop, ,</td>\n",
       "      <td>2</td>\n",
       "      <td>4.600</td>\n",
       "    </tr>\n",
       "  </tbody>\n",
       "</table>\n",
       "<p>1924 rows × 4 columns</p>\n",
       "</div>"
      ],
      "text/plain": [
       "      Topic                                              Words  Frequency  \\\n",
       "0        -1               rachel, little, joey, chandler, know       1308   \n",
       "1         0              ross, monica, listens, chandler, joey        568   \n",
       "2         1        partay andr, partay, andr, kay, naa kay kay        326   \n",
       "3         2    hey hey, hey hey hey, hey, hello hey, hey hello         77   \n",
       "4         3  yeah yeah yeah, yeah yeah, yeah, yeah yep, yea...         50   \n",
       "...     ...                                                ...        ...   \n",
       "1919    471  woman standing, woman standing glares, walks r...          1   \n",
       "1920    474  wont hell, wont hell hole, wont wont hell, arr...          1   \n",
       "1921    475  fine happy, fine happy anniversary, happy anni...          1   \n",
       "1922    489  yeah wanted make, wanted make dramatic, dramat...          1   \n",
       "1923    494                stop stop, stop, stop stop stop, ,           2   \n",
       "\n",
       "      Timestamp  \n",
       "0         0.996  \n",
       "1         0.996  \n",
       "2         0.996  \n",
       "3         0.996  \n",
       "4         0.996  \n",
       "...         ...  \n",
       "1919      4.600  \n",
       "1920      4.600  \n",
       "1921      4.600  \n",
       "1922      4.600  \n",
       "1923      4.600  \n",
       "\n",
       "[1924 rows x 4 columns]"
      ]
     },
     "execution_count": 101,
     "metadata": {},
     "output_type": "execute_result"
    }
   ],
   "source": [
    "topics_over_time"
   ]
  },
  {
   "cell_type": "code",
   "execution_count": 75,
   "metadata": {},
   "outputs": [
    {
     "data": {
      "text/plain": [
       "Topic                                                     3\n",
       "Words        hey hey, hey hey hey, hey, hello hey, howd hey\n",
       "Frequency                                                23\n",
       "Timestamp                                           -23.179\n",
       "Name                    3_hey hey_hey hey hey_hey_hello hey\n",
       "Name: 4, dtype: object"
      ]
     },
     "execution_count": 75,
     "metadata": {},
     "output_type": "execute_result"
    }
   ],
   "source": [
    "topics_over_time.iloc[4]"
   ]
  },
  {
   "cell_type": "code",
   "execution_count": 102,
   "metadata": {},
   "outputs": [
    {
     "data": {
      "text/html": [
       "<div>\n",
       "<style scoped>\n",
       "    .dataframe tbody tr th:only-of-type {\n",
       "        vertical-align: middle;\n",
       "    }\n",
       "\n",
       "    .dataframe tbody tr th {\n",
       "        vertical-align: top;\n",
       "    }\n",
       "\n",
       "    .dataframe thead th {\n",
       "        text-align: right;\n",
       "    }\n",
       "</style>\n",
       "<table border=\"1\" class=\"dataframe\">\n",
       "  <thead>\n",
       "    <tr style=\"text-align: right;\">\n",
       "      <th></th>\n",
       "      <th>Topic</th>\n",
       "      <th>Count</th>\n",
       "      <th>Name</th>\n",
       "      <th>Representation</th>\n",
       "      <th>Representative_Docs</th>\n",
       "    </tr>\n",
       "  </thead>\n",
       "  <tbody>\n",
       "    <tr>\n",
       "      <th>0</th>\n",
       "      <td>-1</td>\n",
       "      <td>5539</td>\n",
       "      <td>-1_rachel_joey_chandler_yknow</td>\n",
       "      <td>[rachel, joey, chandler, yknow, know, gonna, o...</td>\n",
       "      <td>[chandler, chandler, chandler]</td>\n",
       "    </tr>\n",
       "    <tr>\n",
       "      <th>1</th>\n",
       "      <td>0</td>\n",
       "      <td>1810</td>\n",
       "      <td>0_ross_monica_chandler_joey</td>\n",
       "      <td>[ross, monica, chandler, joey, rachel, listens...</td>\n",
       "      <td>[ross, ross, ross]</td>\n",
       "    </tr>\n",
       "    <tr>\n",
       "      <th>2</th>\n",
       "      <td>1</td>\n",
       "      <td>1246</td>\n",
       "      <td>1_kay_kay kay_kay hon_andr naa kay</td>\n",
       "      <td>[kay, kay kay, kay hon, andr naa kay, naa kay ...</td>\n",
       "      <td>[, naa, kay]</td>\n",
       "    </tr>\n",
       "    <tr>\n",
       "      <th>3</th>\n",
       "      <td>2</td>\n",
       "      <td>386</td>\n",
       "      <td>2_hey hey_hey hey hey_hey_hello hey</td>\n",
       "      <td>[hey hey, hey hey hey, hey, hello hey, hey hel...</td>\n",
       "      <td>[hey, hey hey, hey hey hey]</td>\n",
       "    </tr>\n",
       "    <tr>\n",
       "      <th>4</th>\n",
       "      <td>3</td>\n",
       "      <td>295</td>\n",
       "      <td>3_yeah yeah yeah_yeah yeah_yeah_yeah yeah yep</td>\n",
       "      <td>[yeah yeah yeah, yeah yeah, yeah, yeah yeah ye...</td>\n",
       "      <td>[yeah yeah, yeah yeah, yeah yeah yeah]</td>\n",
       "    </tr>\n",
       "    <tr>\n",
       "      <th>...</th>\n",
       "      <td>...</td>\n",
       "      <td>...</td>\n",
       "      <td>...</td>\n",
       "      <td>...</td>\n",
       "      <td>...</td>\n",
       "    </tr>\n",
       "    <tr>\n",
       "      <th>514</th>\n",
       "      <td>513</td>\n",
       "      <td>5</td>\n",
       "      <td>513_lens_switch_good maybe switch_connected sw...</td>\n",
       "      <td>[lens, switch, good maybe switch, connected sw...</td>\n",
       "      <td>[good maybe switch back, lens lens ill right b...</td>\n",
       "    </tr>\n",
       "    <tr>\n",
       "      <th>515</th>\n",
       "      <td>514</td>\n",
       "      <td>5</td>\n",
       "      <td>514_credit_credit card_credit cards_card</td>\n",
       "      <td>[credit, credit card, credit cards, card, card...</td>\n",
       "      <td>[know probably happened someone musta stolen c...</td>\n",
       "    </tr>\n",
       "    <tr>\n",
       "      <th>516</th>\n",
       "      <td>515</td>\n",
       "      <td>5</td>\n",
       "      <td>515_ass talks_ass talks like_barely know talk_...</td>\n",
       "      <td>[ass talks, ass talks like, barely know talk, ...</td>\n",
       "      <td>[come guys havent talked, cant tell cant guy b...</td>\n",
       "    </tr>\n",
       "    <tr>\n",
       "      <th>517</th>\n",
       "      <td>516</td>\n",
       "      <td>5</td>\n",
       "      <td>516_copa_cabana_french_france</td>\n",
       "      <td>[copa, cabana, french, france, toast, avec moi...</td>\n",
       "      <td>[well sometimes think selling practice could m...</td>\n",
       "    </tr>\n",
       "    <tr>\n",
       "      <th>518</th>\n",
       "      <td>517</td>\n",
       "      <td>5</td>\n",
       "      <td>517_babies_dies_clinic_babies dies</td>\n",
       "      <td>[babies, dies, clinic, babies dies, babies kic...</td>\n",
       "      <td>[look told going clinic dont problem youre one...</td>\n",
       "    </tr>\n",
       "  </tbody>\n",
       "</table>\n",
       "<p>519 rows × 5 columns</p>\n",
       "</div>"
      ],
      "text/plain": [
       "     Topic  Count                                               Name  \\\n",
       "0       -1   5539                      -1_rachel_joey_chandler_yknow   \n",
       "1        0   1810                        0_ross_monica_chandler_joey   \n",
       "2        1   1246                 1_kay_kay kay_kay hon_andr naa kay   \n",
       "3        2    386                2_hey hey_hey hey hey_hey_hello hey   \n",
       "4        3    295      3_yeah yeah yeah_yeah yeah_yeah_yeah yeah yep   \n",
       "..     ...    ...                                                ...   \n",
       "514    513      5  513_lens_switch_good maybe switch_connected sw...   \n",
       "515    514      5           514_credit_credit card_credit cards_card   \n",
       "516    515      5  515_ass talks_ass talks like_barely know talk_...   \n",
       "517    516      5                      516_copa_cabana_french_france   \n",
       "518    517      5                 517_babies_dies_clinic_babies dies   \n",
       "\n",
       "                                        Representation  \\\n",
       "0    [rachel, joey, chandler, yknow, know, gonna, o...   \n",
       "1    [ross, monica, chandler, joey, rachel, listens...   \n",
       "2    [kay, kay kay, kay hon, andr naa kay, naa kay ...   \n",
       "3    [hey hey, hey hey hey, hey, hello hey, hey hel...   \n",
       "4    [yeah yeah yeah, yeah yeah, yeah, yeah yeah ye...   \n",
       "..                                                 ...   \n",
       "514  [lens, switch, good maybe switch, connected sw...   \n",
       "515  [credit, credit card, credit cards, card, card...   \n",
       "516  [ass talks, ass talks like, barely know talk, ...   \n",
       "517  [copa, cabana, french, france, toast, avec moi...   \n",
       "518  [babies, dies, clinic, babies dies, babies kic...   \n",
       "\n",
       "                                   Representative_Docs  \n",
       "0                       [chandler, chandler, chandler]  \n",
       "1                                   [ross, ross, ross]  \n",
       "2                                         [, naa, kay]  \n",
       "3                          [hey, hey hey, hey hey hey]  \n",
       "4               [yeah yeah, yeah yeah, yeah yeah yeah]  \n",
       "..                                                 ...  \n",
       "514  [good maybe switch back, lens lens ill right b...  \n",
       "515  [know probably happened someone musta stolen c...  \n",
       "516  [come guys havent talked, cant tell cant guy b...  \n",
       "517  [well sometimes think selling practice could m...  \n",
       "518  [look told going clinic dont problem youre one...  \n",
       "\n",
       "[519 rows x 5 columns]"
      ]
     },
     "execution_count": 102,
     "metadata": {},
     "output_type": "execute_result"
    }
   ],
   "source": [
    "dynamic_topic_model.get_topic_info()"
   ]
  },
  {
   "cell_type": "code",
   "execution_count": 103,
   "metadata": {},
   "outputs": [
    {
     "data": {
      "application/vnd.plotly.v1+json": {
       "config": {
        "plotlyServerURL": "https://plot.ly"
       },
       "data": [
        {
         "hoverinfo": "text",
         "hovertext": [
          "<b>Topic 0</b><br>Words: ross, monica, listens, chandler, joey",
          "<b>Topic 0</b><br>Words: ross, monica, chandler, joey, ross ross",
          "<b>Topic 0</b><br>Words: ross, monica, chandler, joey, rachel",
          "<b>Topic 0</b><br>Words: ross, joey, monica, chandler, rachel",
          "<b>Topic 0</b><br>Words: ross, look way, dont let, joey, mirror"
         ],
         "marker": {
          "color": "#E69F00"
         },
         "mode": "lines",
         "name": "0_ross_monica_chandler_joey",
         "type": "scatter",
         "x": [
          0.996,
          1.8,
          2.6,
          3.8,
          4.6
         ],
         "y": [
          568,
          291,
          506,
          413,
          32
         ]
        },
        {
         "hoverinfo": "text",
         "hovertext": [
          "<b>Topic 1</b><br>Words: partay andr, partay, andr, kay, naa kay kay",
          "<b>Topic 1</b><br>Words: naa, kay, partay andr, kay kay, partay andr naa",
          "<b>Topic 1</b><br>Words: kay, partay andr, naa kay kay, naa kay, kay hon",
          "<b>Topic 1</b><br>Words: kay, kay kay hon, kay hon, kay kay, hon",
          "<b>Topic 1</b><br>Words: kay, partay andr, naa kay kay, naa kay, kay hon"
         ],
         "marker": {
          "color": "#56B4E9"
         },
         "mode": "lines",
         "name": "1_kay_kay kay_kay hon_andr naa kay",
         "type": "scatter",
         "x": [
          0.996,
          1.8,
          2.6,
          3.8,
          4.6
         ],
         "y": [
          326,
          268,
          343,
          290,
          19
         ]
        },
        {
         "hoverinfo": "text",
         "hovertext": [
          "<b>Topic 2</b><br>Words: hey hey, hey hey hey, hey, hello hey, hey hello",
          "<b>Topic 2</b><br>Words: hey hey, hey hey hey, hey, hello hey, hello hey hey",
          "<b>Topic 2</b><br>Words: hey hey, hey hey hey, hey, hello hey, hello hey hey",
          "<b>Topic 2</b><br>Words: hey hey, hey hey hey, hey, hey hello, hello",
          "<b>Topic 2</b><br>Words: bowing, bowing hello, hey bowing, hello bowing, bowing hello bowing"
         ],
         "marker": {
          "color": "#009E73"
         },
         "mode": "lines",
         "name": "2_hey hey_hey hey hey_hey_hello hey",
         "type": "scatter",
         "x": [
          0.996,
          1.8,
          2.6,
          3.8,
          4.6
         ],
         "y": [
          77,
          90,
          106,
          108,
          5
         ]
        },
        {
         "hoverinfo": "text",
         "hovertext": [
          "<b>Topic 3</b><br>Words: yeah yeah yeah, yeah yeah, yeah, yeah yep, yeah yeah yep",
          "<b>Topic 3</b><br>Words: yeah yeah yeah, yeah yeah, yeah, nah yeah, nah yeah yeah",
          "<b>Topic 3</b><br>Words: yeah yeah yeah, yeah yeah, yeah, yeah yep, yeah yeah yep",
          "<b>Topic 3</b><br>Words: yeah yeah yeah, yeah yeah, yeah, yeah yep, yeah yeah yep",
          "<b>Topic 3</b><br>Words: yeah yeah, yeah, yeah yeah yeah, yeah yep, yeah yeah yep"
         ],
         "marker": {
          "color": "#F0E442"
         },
         "mode": "lines",
         "name": "3_yeah yeah yeah_yeah yeah_yeah_yeah yea...",
         "type": "scatter",
         "x": [
          0.996,
          1.8,
          2.6,
          3.8,
          4.6
         ],
         "y": [
          50,
          57,
          86,
          100,
          2
         ]
        },
        {
         "hoverinfo": "text",
         "hovertext": [
          "<b>Topic 4</b><br>Words: thank, thanks, good thank, thank thank, thats great",
          "<b>Topic 4</b><br>Words: thank, good good, excellent, thanks, good good good",
          "<b>Topic 4</b><br>Words: thank, thanks, thanks thank, excellent, great thank",
          "<b>Topic 4</b><br>Words: thank, thanks, great thank, thats great, great",
          "<b>Topic 4</b><br>Words: thanks yes, thanks yes thank, disembarks thank, excellent disembarks, excellent disembarks thank"
         ],
         "marker": {
          "color": "#D55E00"
         },
         "mode": "lines",
         "name": "4_thank_thanks_thank thank_good thank",
         "type": "scatter",
         "x": [
          0.996,
          1.8,
          2.6,
          3.8,
          4.6
         ],
         "y": [
          70,
          56,
          55,
          67,
          4
         ]
        },
        {
         "hoverinfo": "text",
         "hovertext": [
          "<b>Topic 5</b><br>Words: phoebe, phoebe phoebe phoebe, phoebe phoebe, phoebes, shes walking",
          "<b>Topic 5</b><br>Words: phoebe, phoebe phoebe, phoebes, lily, phoebe phoebe phoebe",
          "<b>Topic 5</b><br>Words: phoebe, phoebe phoebe, phoebe phoebe phoebe, phoebes, lily",
          "<b>Topic 5</b><br>Words: phoebe, phoebes, phoebe phoebe, phoebe phoebe phoebe, lily",
          "<b>Topic 5</b><br>Words: phalange, phoebe, time phoebe set, hug hugs phoebe, spot time phoebe"
         ],
         "marker": {
          "color": "#0072B2"
         },
         "mode": "lines",
         "name": "5_phoebe_phoebe phoebe_phoebe phoebe pho...",
         "type": "scatter",
         "x": [
          0.996,
          1.8,
          2.6,
          3.8,
          4.6
         ],
         "y": [
          83,
          40,
          57,
          60,
          6
         ]
        },
        {
         "hoverinfo": "text",
         "hovertext": [
          "<b>Topic 6</b><br>Words: okay okay okay, okay okay, okay alright, alright, okay",
          "<b>Topic 6</b><br>Words: alright alright, alright alright alright, alright, okay okay okay, okay okay",
          "<b>Topic 6</b><br>Words: okay okay okay, okay okay, okay, yeah okay okay, yeah okay",
          "<b>Topic 6</b><br>Words: okay okay okay, okay okay, okay, okay yeah okay, yeah okay",
          "<b>Topic 6</b><br>Words: okay okay umm, okay umm, okay okay, umm, okay okay okay"
         ],
         "marker": {
          "color": "#CC79A7"
         },
         "mode": "lines",
         "name": "6_okay okay okay_okay okay_okay_alright ...",
         "type": "scatter",
         "x": [
          0.996,
          1.8,
          2.6,
          3.8,
          4.6
         ],
         "y": [
          51,
          23,
          90,
          64,
          2
         ]
        },
        {
         "hoverinfo": "text",
         "hovertext": [
          "<b>Topic 7</b><br>Words: dad, mom, father, mother, youre shoe",
          "<b>Topic 7</b><br>Words: dad, mom, father, daddy, mom dad",
          "<b>Topic 7</b><br>Words: dad, mom, father, parents, daddy",
          "<b>Topic 7</b><br>Words: mom, dad, umm mom, father, moms"
         ],
         "marker": {
          "color": "#E69F00"
         },
         "mode": "lines",
         "name": "7_dad_mom_father_mother",
         "type": "scatter",
         "x": [
          0.996,
          1.8,
          2.6,
          3.8
         ],
         "y": [
          60,
          63,
          39,
          26
         ]
        },
        {
         "hoverinfo": "text",
         "hovertext": [
          "<b>Topic 8</b><br>Words: birds, restaurant, dinner, bird, birds dont",
          "<b>Topic 8</b><br>Words: lunch, birds, taste, chef, sauti",
          "<b>Topic 8</b><br>Words: bird, dinner, brown bird, restaurant, hungry",
          "<b>Topic 8</b><br>Words: catering, birds, dinner, lunch, catering business",
          "<b>Topic 8</b><br>Words: lunch richme okay, richme okay want, thats lunch, talk dinner, thats lunch richme"
         ],
         "marker": {
          "color": "#56B4E9"
         },
         "mode": "lines",
         "name": "8_birds_dinner_restaurant_lunch",
         "type": "scatter",
         "x": [
          0.996,
          1.8,
          2.6,
          3.8,
          4.6
         ],
         "y": [
          42,
          39,
          54,
          47,
          2
         ]
        },
        {
         "hoverinfo": "text",
         "hovertext": [
          "<b>Topic 9</b><br>Words: think, think dunno, dont know dont, know dont, dont know",
          "<b>Topic 9</b><br>Words: know think, dont know think, dont know, think, dont know dont",
          "<b>Topic 9</b><br>Words: think, know dont know, know dont, dont know, dont know yeah",
          "<b>Topic 9</b><br>Words: think dont, dont know, think, dont know dont, know think",
          "<b>Topic 9</b><br>Words: think dont think, think dont, dont think, think, dont"
         ],
         "marker": {
          "color": "#009E73"
         },
         "mode": "lines",
         "name": "9_think_think dont_dont know_dont know d...",
         "type": "scatter",
         "x": [
          0.996,
          1.8,
          2.6,
          3.8,
          4.6
         ],
         "y": [
          46,
          38,
          49,
          45,
          2
         ]
        },
        {
         "hoverinfo": "text",
         "hovertext": [
          "<b>Topic 10</b><br>Words: tiny laugh, laugh, fun, funny, thats funny",
          "<b>Topic 10</b><br>Words: fun, funny, fun come, fun think, fun fun",
          "<b>Topic 10</b><br>Words: play, fun, funny, laughing, laughs",
          "<b>Topic 10</b><br>Words: laughs, fun, laughing, funny, play",
          "<b>Topic 10</b><br>Words: drag ohh kids, points corner, corner mouth laugh, laughs harder finally, points corner mouth"
         ],
         "marker": {
          "color": "#F0E442"
         },
         "mode": "lines",
         "name": "10_fun_laughs_funny_play",
         "type": "scatter",
         "x": [
          0.996,
          1.8,
          2.6,
          3.8,
          4.6
         ],
         "y": [
          38,
          26,
          53,
          55,
          4
         ]
        },
        {
         "hoverinfo": "text",
         "hovertext": [
          "<b>Topic 11</b><br>Words: apartment, room, bed, roommate, room thats",
          "<b>Topic 11</b><br>Words: apartment, bed, roommate, room, sleep bed",
          "<b>Topic 11</b><br>Words: apartment, bed, room, mattress, roommate",
          "<b>Topic 11</b><br>Words: apartment, room, rent, bed, roommate",
          "<b>Topic 11</b><br>Words: wanna room, really miss downstairs, room yknow really, wanna room yknow, yknow really miss"
         ],
         "marker": {
          "color": "#D55E00"
         },
         "mode": "lines",
         "name": "11_apartment_bed_room_roommate",
         "type": "scatter",
         "x": [
          0.996,
          1.8,
          2.6,
          3.8,
          4.6
         ],
         "y": [
          20,
          45,
          50,
          59,
          1
         ]
        },
        {
         "hoverinfo": "text",
         "hovertext": [
          "<b>Topic 12</b><br>Words: voice, listen, deep voice, deep, didnt listen story",
          "<b>Topic 12</b><br>Words: voice, listen, clobbered, listen sorry, know voice",
          "<b>Topic 12</b><br>Words: voice, listen, muffled, loud, whispering",
          "<b>Topic 12</b><br>Words: voice, sound, listen, ear, hear"
         ],
         "marker": {
          "color": "#0072B2"
         },
         "mode": "lines",
         "name": "12_voice_listen_sound_loud",
         "type": "scatter",
         "x": [
          0.996,
          1.8,
          2.6,
          3.8
         ],
         "y": [
          42,
          35,
          52,
          44
         ]
        },
        {
         "hoverinfo": "text",
         "hovertext": [
          "<b>Topic 13</b><br>Words: naked, ugly naked, ugly, naked guy, laundry",
          "<b>Topic 13</b><br>Words: coat, naked, pants, willing, willing cook",
          "<b>Topic 13</b><br>Words: naked, pants, coat, underwear, clothes",
          "<b>Topic 13</b><br>Words: coat, naked, pants, clothes, underwear",
          "<b>Topic 13</b><br>Words: sorry extra, wellwell bring dress, wellwell bring, wet pants, wellwell"
         ],
         "marker": {
          "color": "#CC79A7"
         },
         "mode": "lines",
         "name": "13_naked_coat_pants_underwear",
         "type": "scatter",
         "x": [
          0.996,
          1.8,
          2.6,
          3.8,
          4.6
         ],
         "y": [
          42,
          27,
          46,
          37,
          6
         ]
        },
        {
         "hoverinfo": "text",
         "hovertext": [
          "<b>Topic 14</b><br>Words: god god, god god god, god, waddawe, happened god",
          "<b>Topic 14</b><br>Words: god god, god god god, god, god happened, happened god",
          "<b>Topic 14</b><br>Words: god god, god god god, god, curse, god happened",
          "<b>Topic 14</b><br>Words: god god, god god god, god, god happened, happened god",
          "<b>Topic 14</b><br>Words: starting look like, starting look, great aunt, aunt muriel, like great aunt"
         ],
         "marker": {
          "color": "#E69F00"
         },
         "mode": "lines",
         "name": "14_god god_god god god_god_god happened",
         "type": "scatter",
         "x": [
          0.996,
          1.8,
          2.6,
          3.8,
          4.6
         ],
         "y": [
          33,
          34,
          40,
          48,
          2
         ]
        },
        {
         "hoverinfo": "text",
         "hovertext": [
          "<b>Topic 15</b><br>Words: shes, sister, shes shes, shes coming, hannah beautiful",
          "<b>Topic 15</b><br>Words: shes, sister, exactly shes, love yasmine blepe, love yasmine",
          "<b>Topic 15</b><br>Words: shes, sister, sisters, shes great, shes shes",
          "<b>Topic 15</b><br>Words: kathy, shes, shes shes, kathys, yknow shes",
          "<b>Topic 15</b><br>Words: oooohhh ill, shes people, ill bet shes, oooohhh ill bet, bet shes people"
         ],
         "marker": {
          "color": "#56B4E9"
         },
         "mode": "lines",
         "name": "15_shes_kathy_sister_shes shes",
         "type": "scatter",
         "x": [
          0.996,
          1.8,
          2.6,
          3.8,
          4.6
         ],
         "y": [
          35,
          27,
          32,
          59,
          1
         ]
        },
        {
         "hoverinfo": "text",
         "hovertext": [
          "<b>Topic 16</b><br>Words: mean, mean mean, understand mean, mean mean dont, itll fine",
          "<b>Topic 16</b><br>Words: mean, friends, cleeeean mean, cleeeean, mean cleeeean",
          "<b>Topic 16</b><br>Words: mean, mean mean, mean like, friends, mean mean like",
          "<b>Topic 16</b><br>Words: mean, mean mean, liked, mean like, feels right",
          "<b>Topic 16</b><br>Words: mean tell, tell, mean, mean mean, friends"
         ],
         "marker": {
          "color": "#009E73"
         },
         "mode": "lines",
         "name": "16_mean_mean mean_friends_mean like",
         "type": "scatter",
         "x": [
          0.996,
          1.8,
          2.6,
          3.8,
          4.6
         ],
         "y": [
          36,
          26,
          48,
          33,
          1
         ]
        },
        {
         "hoverinfo": "text",
         "hovertext": [
          "<b>Topic 17</b><br>Words: money, dollars, pay, ooo, dollars hour",
          "<b>Topic 17</b><br>Words: money, charity, dollars, pay, paid",
          "<b>Topic 17</b><br>Words: money, millionaire, dollars, sold, ton money okay",
          "<b>Topic 17</b><br>Words: money, dollars, pay, 327, dollars hand",
          "<b>Topic 17</b><br>Words: 5000, money, money movie, bucks today yeahyeah, working til starts"
         ],
         "marker": {
          "color": "#F0E442"
         },
         "mode": "lines",
         "name": "17_money_dollars_pay_bucks",
         "type": "scatter",
         "x": [
          0.996,
          1.8,
          2.6,
          3.8,
          4.6
         ],
         "y": [
          47,
          35,
          16,
          31,
          8
         ]
        },
        {
         "hoverinfo": "text",
         "hovertext": [
          "<b>Topic 18</b><br>Words: night, tonight, sleep, slept, tomorrow",
          "<b>Topic 18</b><br>Words: sleep, night, night night, slept, good morning",
          "<b>Topic 18</b><br>Words: sleep, slept, night, tonight, allowed sleep",
          "<b>Topic 18</b><br>Words: sleep, asleep, good morning, wake, fell asleep"
         ],
         "marker": {
          "color": "#D55E00"
         },
         "mode": "lines",
         "name": "18_sleep_night_tonight_slept",
         "type": "scatter",
         "x": [
          0.996,
          1.8,
          2.6,
          3.8
         ],
         "y": [
          36,
          22,
          43,
          36
         ]
        },
        {
         "hoverinfo": "text",
         "hovertext": [
          "<b>Topic 19</b><br>Words: janice, janice janice, julie, boom, hey janice",
          "<b>Topic 19</b><br>Words: julie, janice, julie julie, julies, janice janice",
          "<b>Topic 19</b><br>Words: janice, julie, janice shakes head, janice shakes, shakes head",
          "<b>Topic 19</b><br>Words: janice, julie, julie julie, janice janice, julies"
         ],
         "marker": {
          "color": "#0072B2"
         },
         "mode": "lines",
         "name": "19_janice_julie_julie julie_janice janic...",
         "type": "scatter",
         "x": [
          0.996,
          1.8,
          2.6,
          3.8
         ],
         "y": [
          23,
          60,
          27,
          13
         ]
        }
       ],
       "layout": {
        "height": 450,
        "hoverlabel": {
         "bgcolor": "white",
         "font": {
          "family": "Rockwell",
          "size": 16
         }
        },
        "legend": {
         "title": {
          "text": "<b>Global Topic Representation"
         }
        },
        "template": {
         "data": {
          "bar": [
           {
            "error_x": {
             "color": "rgb(36,36,36)"
            },
            "error_y": {
             "color": "rgb(36,36,36)"
            },
            "marker": {
             "line": {
              "color": "white",
              "width": 0.5
             },
             "pattern": {
              "fillmode": "overlay",
              "size": 10,
              "solidity": 0.2
             }
            },
            "type": "bar"
           }
          ],
          "barpolar": [
           {
            "marker": {
             "line": {
              "color": "white",
              "width": 0.5
             },
             "pattern": {
              "fillmode": "overlay",
              "size": 10,
              "solidity": 0.2
             }
            },
            "type": "barpolar"
           }
          ],
          "carpet": [
           {
            "aaxis": {
             "endlinecolor": "rgb(36,36,36)",
             "gridcolor": "white",
             "linecolor": "white",
             "minorgridcolor": "white",
             "startlinecolor": "rgb(36,36,36)"
            },
            "baxis": {
             "endlinecolor": "rgb(36,36,36)",
             "gridcolor": "white",
             "linecolor": "white",
             "minorgridcolor": "white",
             "startlinecolor": "rgb(36,36,36)"
            },
            "type": "carpet"
           }
          ],
          "choropleth": [
           {
            "colorbar": {
             "outlinewidth": 1,
             "tickcolor": "rgb(36,36,36)",
             "ticks": "outside"
            },
            "type": "choropleth"
           }
          ],
          "contour": [
           {
            "colorbar": {
             "outlinewidth": 1,
             "tickcolor": "rgb(36,36,36)",
             "ticks": "outside"
            },
            "colorscale": [
             [
              0,
              "#440154"
             ],
             [
              0.1111111111111111,
              "#482878"
             ],
             [
              0.2222222222222222,
              "#3e4989"
             ],
             [
              0.3333333333333333,
              "#31688e"
             ],
             [
              0.4444444444444444,
              "#26828e"
             ],
             [
              0.5555555555555556,
              "#1f9e89"
             ],
             [
              0.6666666666666666,
              "#35b779"
             ],
             [
              0.7777777777777778,
              "#6ece58"
             ],
             [
              0.8888888888888888,
              "#b5de2b"
             ],
             [
              1,
              "#fde725"
             ]
            ],
            "type": "contour"
           }
          ],
          "contourcarpet": [
           {
            "colorbar": {
             "outlinewidth": 1,
             "tickcolor": "rgb(36,36,36)",
             "ticks": "outside"
            },
            "type": "contourcarpet"
           }
          ],
          "heatmap": [
           {
            "colorbar": {
             "outlinewidth": 1,
             "tickcolor": "rgb(36,36,36)",
             "ticks": "outside"
            },
            "colorscale": [
             [
              0,
              "#440154"
             ],
             [
              0.1111111111111111,
              "#482878"
             ],
             [
              0.2222222222222222,
              "#3e4989"
             ],
             [
              0.3333333333333333,
              "#31688e"
             ],
             [
              0.4444444444444444,
              "#26828e"
             ],
             [
              0.5555555555555556,
              "#1f9e89"
             ],
             [
              0.6666666666666666,
              "#35b779"
             ],
             [
              0.7777777777777778,
              "#6ece58"
             ],
             [
              0.8888888888888888,
              "#b5de2b"
             ],
             [
              1,
              "#fde725"
             ]
            ],
            "type": "heatmap"
           }
          ],
          "heatmapgl": [
           {
            "colorbar": {
             "outlinewidth": 1,
             "tickcolor": "rgb(36,36,36)",
             "ticks": "outside"
            },
            "colorscale": [
             [
              0,
              "#440154"
             ],
             [
              0.1111111111111111,
              "#482878"
             ],
             [
              0.2222222222222222,
              "#3e4989"
             ],
             [
              0.3333333333333333,
              "#31688e"
             ],
             [
              0.4444444444444444,
              "#26828e"
             ],
             [
              0.5555555555555556,
              "#1f9e89"
             ],
             [
              0.6666666666666666,
              "#35b779"
             ],
             [
              0.7777777777777778,
              "#6ece58"
             ],
             [
              0.8888888888888888,
              "#b5de2b"
             ],
             [
              1,
              "#fde725"
             ]
            ],
            "type": "heatmapgl"
           }
          ],
          "histogram": [
           {
            "marker": {
             "line": {
              "color": "white",
              "width": 0.6
             }
            },
            "type": "histogram"
           }
          ],
          "histogram2d": [
           {
            "colorbar": {
             "outlinewidth": 1,
             "tickcolor": "rgb(36,36,36)",
             "ticks": "outside"
            },
            "colorscale": [
             [
              0,
              "#440154"
             ],
             [
              0.1111111111111111,
              "#482878"
             ],
             [
              0.2222222222222222,
              "#3e4989"
             ],
             [
              0.3333333333333333,
              "#31688e"
             ],
             [
              0.4444444444444444,
              "#26828e"
             ],
             [
              0.5555555555555556,
              "#1f9e89"
             ],
             [
              0.6666666666666666,
              "#35b779"
             ],
             [
              0.7777777777777778,
              "#6ece58"
             ],
             [
              0.8888888888888888,
              "#b5de2b"
             ],
             [
              1,
              "#fde725"
             ]
            ],
            "type": "histogram2d"
           }
          ],
          "histogram2dcontour": [
           {
            "colorbar": {
             "outlinewidth": 1,
             "tickcolor": "rgb(36,36,36)",
             "ticks": "outside"
            },
            "colorscale": [
             [
              0,
              "#440154"
             ],
             [
              0.1111111111111111,
              "#482878"
             ],
             [
              0.2222222222222222,
              "#3e4989"
             ],
             [
              0.3333333333333333,
              "#31688e"
             ],
             [
              0.4444444444444444,
              "#26828e"
             ],
             [
              0.5555555555555556,
              "#1f9e89"
             ],
             [
              0.6666666666666666,
              "#35b779"
             ],
             [
              0.7777777777777778,
              "#6ece58"
             ],
             [
              0.8888888888888888,
              "#b5de2b"
             ],
             [
              1,
              "#fde725"
             ]
            ],
            "type": "histogram2dcontour"
           }
          ],
          "mesh3d": [
           {
            "colorbar": {
             "outlinewidth": 1,
             "tickcolor": "rgb(36,36,36)",
             "ticks": "outside"
            },
            "type": "mesh3d"
           }
          ],
          "parcoords": [
           {
            "line": {
             "colorbar": {
              "outlinewidth": 1,
              "tickcolor": "rgb(36,36,36)",
              "ticks": "outside"
             }
            },
            "type": "parcoords"
           }
          ],
          "pie": [
           {
            "automargin": true,
            "type": "pie"
           }
          ],
          "scatter": [
           {
            "fillpattern": {
             "fillmode": "overlay",
             "size": 10,
             "solidity": 0.2
            },
            "type": "scatter"
           }
          ],
          "scatter3d": [
           {
            "line": {
             "colorbar": {
              "outlinewidth": 1,
              "tickcolor": "rgb(36,36,36)",
              "ticks": "outside"
             }
            },
            "marker": {
             "colorbar": {
              "outlinewidth": 1,
              "tickcolor": "rgb(36,36,36)",
              "ticks": "outside"
             }
            },
            "type": "scatter3d"
           }
          ],
          "scattercarpet": [
           {
            "marker": {
             "colorbar": {
              "outlinewidth": 1,
              "tickcolor": "rgb(36,36,36)",
              "ticks": "outside"
             }
            },
            "type": "scattercarpet"
           }
          ],
          "scattergeo": [
           {
            "marker": {
             "colorbar": {
              "outlinewidth": 1,
              "tickcolor": "rgb(36,36,36)",
              "ticks": "outside"
             }
            },
            "type": "scattergeo"
           }
          ],
          "scattergl": [
           {
            "marker": {
             "colorbar": {
              "outlinewidth": 1,
              "tickcolor": "rgb(36,36,36)",
              "ticks": "outside"
             }
            },
            "type": "scattergl"
           }
          ],
          "scattermapbox": [
           {
            "marker": {
             "colorbar": {
              "outlinewidth": 1,
              "tickcolor": "rgb(36,36,36)",
              "ticks": "outside"
             }
            },
            "type": "scattermapbox"
           }
          ],
          "scatterpolar": [
           {
            "marker": {
             "colorbar": {
              "outlinewidth": 1,
              "tickcolor": "rgb(36,36,36)",
              "ticks": "outside"
             }
            },
            "type": "scatterpolar"
           }
          ],
          "scatterpolargl": [
           {
            "marker": {
             "colorbar": {
              "outlinewidth": 1,
              "tickcolor": "rgb(36,36,36)",
              "ticks": "outside"
             }
            },
            "type": "scatterpolargl"
           }
          ],
          "scatterternary": [
           {
            "marker": {
             "colorbar": {
              "outlinewidth": 1,
              "tickcolor": "rgb(36,36,36)",
              "ticks": "outside"
             }
            },
            "type": "scatterternary"
           }
          ],
          "surface": [
           {
            "colorbar": {
             "outlinewidth": 1,
             "tickcolor": "rgb(36,36,36)",
             "ticks": "outside"
            },
            "colorscale": [
             [
              0,
              "#440154"
             ],
             [
              0.1111111111111111,
              "#482878"
             ],
             [
              0.2222222222222222,
              "#3e4989"
             ],
             [
              0.3333333333333333,
              "#31688e"
             ],
             [
              0.4444444444444444,
              "#26828e"
             ],
             [
              0.5555555555555556,
              "#1f9e89"
             ],
             [
              0.6666666666666666,
              "#35b779"
             ],
             [
              0.7777777777777778,
              "#6ece58"
             ],
             [
              0.8888888888888888,
              "#b5de2b"
             ],
             [
              1,
              "#fde725"
             ]
            ],
            "type": "surface"
           }
          ],
          "table": [
           {
            "cells": {
             "fill": {
              "color": "rgb(237,237,237)"
             },
             "line": {
              "color": "white"
             }
            },
            "header": {
             "fill": {
              "color": "rgb(217,217,217)"
             },
             "line": {
              "color": "white"
             }
            },
            "type": "table"
           }
          ]
         },
         "layout": {
          "annotationdefaults": {
           "arrowhead": 0,
           "arrowwidth": 1
          },
          "autotypenumbers": "strict",
          "coloraxis": {
           "colorbar": {
            "outlinewidth": 1,
            "tickcolor": "rgb(36,36,36)",
            "ticks": "outside"
           }
          },
          "colorscale": {
           "diverging": [
            [
             0,
             "rgb(103,0,31)"
            ],
            [
             0.1,
             "rgb(178,24,43)"
            ],
            [
             0.2,
             "rgb(214,96,77)"
            ],
            [
             0.3,
             "rgb(244,165,130)"
            ],
            [
             0.4,
             "rgb(253,219,199)"
            ],
            [
             0.5,
             "rgb(247,247,247)"
            ],
            [
             0.6,
             "rgb(209,229,240)"
            ],
            [
             0.7,
             "rgb(146,197,222)"
            ],
            [
             0.8,
             "rgb(67,147,195)"
            ],
            [
             0.9,
             "rgb(33,102,172)"
            ],
            [
             1,
             "rgb(5,48,97)"
            ]
           ],
           "sequential": [
            [
             0,
             "#440154"
            ],
            [
             0.1111111111111111,
             "#482878"
            ],
            [
             0.2222222222222222,
             "#3e4989"
            ],
            [
             0.3333333333333333,
             "#31688e"
            ],
            [
             0.4444444444444444,
             "#26828e"
            ],
            [
             0.5555555555555556,
             "#1f9e89"
            ],
            [
             0.6666666666666666,
             "#35b779"
            ],
            [
             0.7777777777777778,
             "#6ece58"
            ],
            [
             0.8888888888888888,
             "#b5de2b"
            ],
            [
             1,
             "#fde725"
            ]
           ],
           "sequentialminus": [
            [
             0,
             "#440154"
            ],
            [
             0.1111111111111111,
             "#482878"
            ],
            [
             0.2222222222222222,
             "#3e4989"
            ],
            [
             0.3333333333333333,
             "#31688e"
            ],
            [
             0.4444444444444444,
             "#26828e"
            ],
            [
             0.5555555555555556,
             "#1f9e89"
            ],
            [
             0.6666666666666666,
             "#35b779"
            ],
            [
             0.7777777777777778,
             "#6ece58"
            ],
            [
             0.8888888888888888,
             "#b5de2b"
            ],
            [
             1,
             "#fde725"
            ]
           ]
          },
          "colorway": [
           "#1F77B4",
           "#FF7F0E",
           "#2CA02C",
           "#D62728",
           "#9467BD",
           "#8C564B",
           "#E377C2",
           "#7F7F7F",
           "#BCBD22",
           "#17BECF"
          ],
          "font": {
           "color": "rgb(36,36,36)"
          },
          "geo": {
           "bgcolor": "white",
           "lakecolor": "white",
           "landcolor": "white",
           "showlakes": true,
           "showland": true,
           "subunitcolor": "white"
          },
          "hoverlabel": {
           "align": "left"
          },
          "hovermode": "closest",
          "mapbox": {
           "style": "light"
          },
          "paper_bgcolor": "white",
          "plot_bgcolor": "white",
          "polar": {
           "angularaxis": {
            "gridcolor": "rgb(232,232,232)",
            "linecolor": "rgb(36,36,36)",
            "showgrid": false,
            "showline": true,
            "ticks": "outside"
           },
           "bgcolor": "white",
           "radialaxis": {
            "gridcolor": "rgb(232,232,232)",
            "linecolor": "rgb(36,36,36)",
            "showgrid": false,
            "showline": true,
            "ticks": "outside"
           }
          },
          "scene": {
           "xaxis": {
            "backgroundcolor": "white",
            "gridcolor": "rgb(232,232,232)",
            "gridwidth": 2,
            "linecolor": "rgb(36,36,36)",
            "showbackground": true,
            "showgrid": false,
            "showline": true,
            "ticks": "outside",
            "zeroline": false,
            "zerolinecolor": "rgb(36,36,36)"
           },
           "yaxis": {
            "backgroundcolor": "white",
            "gridcolor": "rgb(232,232,232)",
            "gridwidth": 2,
            "linecolor": "rgb(36,36,36)",
            "showbackground": true,
            "showgrid": false,
            "showline": true,
            "ticks": "outside",
            "zeroline": false,
            "zerolinecolor": "rgb(36,36,36)"
           },
           "zaxis": {
            "backgroundcolor": "white",
            "gridcolor": "rgb(232,232,232)",
            "gridwidth": 2,
            "linecolor": "rgb(36,36,36)",
            "showbackground": true,
            "showgrid": false,
            "showline": true,
            "ticks": "outside",
            "zeroline": false,
            "zerolinecolor": "rgb(36,36,36)"
           }
          },
          "shapedefaults": {
           "fillcolor": "black",
           "line": {
            "width": 0
           },
           "opacity": 0.3
          },
          "ternary": {
           "aaxis": {
            "gridcolor": "rgb(232,232,232)",
            "linecolor": "rgb(36,36,36)",
            "showgrid": false,
            "showline": true,
            "ticks": "outside"
           },
           "baxis": {
            "gridcolor": "rgb(232,232,232)",
            "linecolor": "rgb(36,36,36)",
            "showgrid": false,
            "showline": true,
            "ticks": "outside"
           },
           "bgcolor": "white",
           "caxis": {
            "gridcolor": "rgb(232,232,232)",
            "linecolor": "rgb(36,36,36)",
            "showgrid": false,
            "showline": true,
            "ticks": "outside"
           }
          },
          "title": {
           "x": 0.05
          },
          "xaxis": {
           "automargin": true,
           "gridcolor": "rgb(232,232,232)",
           "linecolor": "rgb(36,36,36)",
           "showgrid": false,
           "showline": true,
           "ticks": "outside",
           "title": {
            "standoff": 15
           },
           "zeroline": false,
           "zerolinecolor": "rgb(36,36,36)"
          },
          "yaxis": {
           "automargin": true,
           "gridcolor": "rgb(232,232,232)",
           "linecolor": "rgb(36,36,36)",
           "showgrid": false,
           "showline": true,
           "ticks": "outside",
           "title": {
            "standoff": 15
           },
           "zeroline": false,
           "zerolinecolor": "rgb(36,36,36)"
          }
         }
        },
        "title": {
         "font": {
          "color": "Black",
          "size": 22
         },
         "text": "<b>Topics over Time</b>",
         "x": 0.4,
         "xanchor": "center",
         "y": 0.95,
         "yanchor": "top"
        },
        "width": 1250,
        "xaxis": {
         "showgrid": true
        },
        "yaxis": {
         "showgrid": true,
         "title": {
          "text": "Frequency"
         }
        }
       }
      }
     },
     "metadata": {},
     "output_type": "display_data"
    }
   ],
   "source": [
    "dynamic_topic_model.visualize_topics_over_time(topics_over_time, top_n_topics=20)"
   ]
  }
 ],
 "metadata": {
  "kernelspec": {
   "display_name": ".venv",
   "language": "python",
   "name": "python3"
  },
  "language_info": {
   "codemirror_mode": {
    "name": "ipython",
    "version": 3
   },
   "file_extension": ".py",
   "mimetype": "text/x-python",
   "name": "python",
   "nbconvert_exporter": "python",
   "pygments_lexer": "ipython3",
   "version": "3.12.7"
  }
 },
 "nbformat": 4,
 "nbformat_minor": 2
}
