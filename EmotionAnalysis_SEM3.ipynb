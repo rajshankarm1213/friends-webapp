{
 "cells": [
  {
   "cell_type": "code",
   "execution_count": 1,
   "metadata": {},
   "outputs": [],
   "source": [
    "import pandas as pd\n",
    "import numpy as np\n",
    "from tqdm.auto import tqdm"
   ]
  },
  {
   "cell_type": "code",
   "execution_count": 2,
   "metadata": {},
   "outputs": [],
   "source": [
    "#import os\n",
    "#os.chdir(\"C:/Users/malha/OneDrive/Desktop/Sem 3/Sem 3 Project/Emotion\")"
   ]
  },
  {
   "cell_type": "code",
   "execution_count": 3,
   "metadata": {},
   "outputs": [
    {
     "data": {
      "text/html": [
       "<div>\n",
       "<style scoped>\n",
       "    .dataframe tbody tr th:only-of-type {\n",
       "        vertical-align: middle;\n",
       "    }\n",
       "\n",
       "    .dataframe tbody tr th {\n",
       "        vertical-align: top;\n",
       "    }\n",
       "\n",
       "    .dataframe thead th {\n",
       "        text-align: right;\n",
       "    }\n",
       "</style>\n",
       "<table border=\"1\" class=\"dataframe\">\n",
       "  <thead>\n",
       "    <tr style=\"text-align: right;\">\n",
       "      <th></th>\n",
       "      <th>author</th>\n",
       "      <th>episode_number</th>\n",
       "      <th>episode_title</th>\n",
       "      <th>quote</th>\n",
       "      <th>quote_order</th>\n",
       "      <th>season</th>\n",
       "    </tr>\n",
       "  </thead>\n",
       "  <tbody>\n",
       "    <tr>\n",
       "      <th>0</th>\n",
       "      <td>Monica</td>\n",
       "      <td>1.0</td>\n",
       "      <td>Monica Gets A Roommate</td>\n",
       "      <td>There's nothing to tell! He's just some guy I ...</td>\n",
       "      <td>0.0</td>\n",
       "      <td>1.0</td>\n",
       "    </tr>\n",
       "    <tr>\n",
       "      <th>1</th>\n",
       "      <td>Joey</td>\n",
       "      <td>1.0</td>\n",
       "      <td>Monica Gets A Roommate</td>\n",
       "      <td>C'mon, you're going out with the guy! There's ...</td>\n",
       "      <td>1.0</td>\n",
       "      <td>1.0</td>\n",
       "    </tr>\n",
       "    <tr>\n",
       "      <th>2</th>\n",
       "      <td>Chandler</td>\n",
       "      <td>1.0</td>\n",
       "      <td>Monica Gets A Roommate</td>\n",
       "      <td>All right Joey, be nice. So does he have a hum...</td>\n",
       "      <td>2.0</td>\n",
       "      <td>1.0</td>\n",
       "    </tr>\n",
       "    <tr>\n",
       "      <th>3</th>\n",
       "      <td>Phoebe</td>\n",
       "      <td>1.0</td>\n",
       "      <td>Monica Gets A Roommate</td>\n",
       "      <td>Wait, does he eat chalk?</td>\n",
       "      <td>3.0</td>\n",
       "      <td>1.0</td>\n",
       "    </tr>\n",
       "    <tr>\n",
       "      <th>4</th>\n",
       "      <td>Phoebe</td>\n",
       "      <td>1.0</td>\n",
       "      <td>Monica Gets A Roommate</td>\n",
       "      <td>Just, 'cause, I don't want her to go through w...</td>\n",
       "      <td>4.0</td>\n",
       "      <td>1.0</td>\n",
       "    </tr>\n",
       "  </tbody>\n",
       "</table>\n",
       "</div>"
      ],
      "text/plain": [
       "     author  episode_number           episode_title  \\\n",
       "0    Monica             1.0  Monica Gets A Roommate   \n",
       "1      Joey             1.0  Monica Gets A Roommate   \n",
       "2  Chandler             1.0  Monica Gets A Roommate   \n",
       "3    Phoebe             1.0  Monica Gets A Roommate   \n",
       "4    Phoebe             1.0  Monica Gets A Roommate   \n",
       "\n",
       "                                               quote  quote_order  season  \n",
       "0  There's nothing to tell! He's just some guy I ...          0.0     1.0  \n",
       "1  C'mon, you're going out with the guy! There's ...          1.0     1.0  \n",
       "2  All right Joey, be nice. So does he have a hum...          2.0     1.0  \n",
       "3                           Wait, does he eat chalk?          3.0     1.0  \n",
       "4  Just, 'cause, I don't want her to go through w...          4.0     1.0  "
      ]
     },
     "execution_count": 3,
     "metadata": {},
     "output_type": "execute_result"
    }
   ],
   "source": [
    "data = pd.read_csv('friends_transcripts.csv')\n",
    "data.head()"
   ]
  },
  {
   "cell_type": "code",
   "execution_count": 4,
   "metadata": {},
   "outputs": [
    {
     "name": "stdout",
     "output_type": "stream",
     "text": [
      "<class 'pandas.core.frame.DataFrame'>\n",
      "RangeIndex: 60291 entries, 0 to 60290\n",
      "Data columns (total 6 columns):\n",
      " #   Column          Non-Null Count  Dtype  \n",
      "---  ------          --------------  -----  \n",
      " 0   author          60291 non-null  object \n",
      " 1   episode_number  60291 non-null  float64\n",
      " 2   episode_title   60291 non-null  object \n",
      " 3   quote           60291 non-null  object \n",
      " 4   quote_order     60291 non-null  float64\n",
      " 5   season          60291 non-null  float64\n",
      "dtypes: float64(3), object(3)\n",
      "memory usage: 2.8+ MB\n"
     ]
    }
   ],
   "source": [
    "data.info()"
   ]
  },
  {
   "cell_type": "code",
   "execution_count": 5,
   "metadata": {},
   "outputs": [
    {
     "name": "stdout",
     "output_type": "stream",
     "text": [
      "[ 1.  2.  3.  4.  5.  6.  7.  8.  9. 10. 11. 12. 13. 14. 15. 16. 17. 18.\n",
      " 19. 20. 21. 22. 23. 24. 25.]\n",
      "[ 1.  2.  3.  4.  5.  6.  7.  8.  9. 10.]\n"
     ]
    }
   ],
   "source": [
    "a = data['episode_number'].unique()\n",
    "a1 = data['season'].unique()\n",
    "print(a)\n",
    "print(a1)"
   ]
  },
  {
   "cell_type": "markdown",
   "metadata": {},
   "source": [
    "# Options for Hugging face models\n",
    "* classifier = pipeline(“zero-shot-classification”, model=”facebook/bart-large-mnli”)\n",
    "* classifier = pipeline(\"text-classification\", model=\"j-hartmann/emotion-english-distilroberta-base\")\n",
    "* classifier1= pipeline(“zero-shot-classification”, model=’cross-encoder/nli-distilroberta-base’)\n",
    "* ‘navteca/bart-large-mnli’\n",
    "* \"bhadresh-savani/bert-base-go-emotion\"\n",
    "* \"j-hartmann/emotion-english-distilroberta-base\"\n",
    "* \"monologg/bert-base-cased-goemotions-original\""
   ]
  },
  {
   "cell_type": "code",
   "execution_count": 4,
   "metadata": {},
   "outputs": [
    {
     "data": {
      "text/plain": [
       "{'sequence': \"(picking up a leftover part) What's this?\",\n",
       " 'labels': ['confused',\n",
       "  'surprised',\n",
       "  'tense',\n",
       "  'annoyed',\n",
       "  'relaxed',\n",
       "  'excited',\n",
       "  'afraid',\n",
       "  'sad',\n",
       "  'happy',\n",
       "  'love',\n",
       "  'angry',\n",
       "  'satisfied'],\n",
       " 'scores': [0.5649126172065735,\n",
       "  0.3764675259590149,\n",
       "  0.025884047150611877,\n",
       "  0.006900837179273367,\n",
       "  0.006478230934590101,\n",
       "  0.006041232030838728,\n",
       "  0.003597994800657034,\n",
       "  0.0025275694206357002,\n",
       "  0.0025220352690666914,\n",
       "  0.0017183809541165829,\n",
       "  0.0016998997889459133,\n",
       "  0.0012495318660512567]}"
      ]
     },
     "execution_count": 4,
     "metadata": {},
     "output_type": "execute_result"
    }
   ],
   "source": [
    "# Importing the HuggingFace API - Zero Shot Classification\n",
    "from transformers import pipeline\n",
    "from torch import *\n",
    "classifier = pipeline(\"zero-shot-classification\", model=\"facebook/bart-large-mnli\", device='cuda')\n",
    "\n",
    "#emotions = ['afraid', 'angry', 'annoyed', 'aroused', 'content', 'confused', 'delighted', 'depressed', 'excited', 'frustrated',\n",
    "#            'happy', 'relaxed', 'sad', 'satisfied', 'surprised', 'tense']\n",
    "emotions = ['afraid', 'angry', 'annoyed', 'love','confused','excited', 'happy', 'relaxed', 'sad', 'satisfied', 'surprised', 'tense']\n",
    "classifier(data['quote'][112], emotions)"
   ]
  },
  {
   "cell_type": "code",
   "execution_count": 104,
   "metadata": {},
   "outputs": [],
   "source": [
    "dataset = data['quote'].head(1000)"
   ]
  },
  {
   "cell_type": "code",
   "execution_count": 105,
   "metadata": {},
   "outputs": [
    {
     "data": {
      "text/plain": [
       "0      There's nothing to tell! He's just some guy I ...\n",
       "1      C'mon, you're going out with the guy! There's ...\n",
       "2      All right Joey, be nice. So does he have a hum...\n",
       "3                               Wait, does he eat chalk?\n",
       "4      Just, 'cause, I don't want her to go through w...\n",
       "                             ...                        \n",
       "995    My first time with Carol was... (He mumbles th...\n",
       "996                                                What?\n",
       "997                                It was my first time.\n",
       "998             With Carol? (Ross gives him a look.) Oh.\n",
       "999    So in your whole life, you've only been with o...\n",
       "Name: quote, Length: 1000, dtype: object"
      ]
     },
     "execution_count": 105,
     "metadata": {},
     "output_type": "execute_result"
    }
   ],
   "source": [
    "dataset"
   ]
  },
  {
   "cell_type": "code",
   "execution_count": 5,
   "metadata": {},
   "outputs": [],
   "source": [
    "def get_emotion(quote, emotions):\n",
    "  return classifier(quote, emotions)['labels'][0] # only the most likely emotion will be considered\n",
    "\n",
    "def extract_top_2_emotions(dialogue):\n",
    "    emotions = ['afraid', 'angry', 'annoyed', 'aroused', 'content', 'confused', 'delighted', 'depressed', 'excited', 'frustrated',\n",
    "            'happy', 'relaxed', 'sad', 'satisfied', 'surprised', 'tense']\n",
    "    result = classifier(dialogue, emotions, batch_size=128)\n",
    "\n",
    "    top_2_emotions = result['labels'][:2]\n",
    "    top_2_probs = result['scores'][:2]\n",
    "\n",
    "    return (top_2_emotions[0], top_2_probs[0],\n",
    "            top_2_emotions[1], top_2_probs[1])"
   ]
  },
  {
   "cell_type": "code",
   "execution_count": 107,
   "metadata": {},
   "outputs": [],
   "source": [
    "s5 = data[data['season'] == 5]"
   ]
  },
  {
   "cell_type": "code",
   "execution_count": 108,
   "metadata": {},
   "outputs": [],
   "source": [
    "s5 = s5.reset_index(drop=True)"
   ]
  },
  {
   "cell_type": "code",
   "execution_count": 5,
   "metadata": {},
   "outputs": [
    {
     "name": "stdout",
     "output_type": "stream",
     "text": [
      "Is CUDA supported by this system? True\n",
      "CUDA version: 12.4\n",
      "ID of current CUDA device: 0\n",
      "Name of current CUDA device: NVIDIA GeForce GTX 1650 with Max-Q Design\n"
     ]
    }
   ],
   "source": [
    "import torch\n",
    "\n",
    "print(f\"Is CUDA supported by this system? {torch.cuda.is_available()}\")\n",
    "print(f\"CUDA version: {torch.version.cuda}\")\n",
    "\n",
    "# Storing ID of current CUDA device\n",
    "cuda_id = torch.cuda.current_device()\n",
    "print(f\"ID of current CUDA device: {torch.cuda.current_device()}\")\n",
    "\t\n",
    "print(f\"Name of current CUDA device: {torch.cuda.get_device_name(cuda_id)}\")"
   ]
  },
  {
   "cell_type": "code",
   "execution_count": 109,
   "metadata": {},
   "outputs": [],
   "source": [
    "df = pd.DataFrame()"
   ]
  },
  {
   "cell_type": "code",
   "execution_count": 7,
   "metadata": {},
   "outputs": [],
   "source": [
    "s6 = data[data['season'] == 6]"
   ]
  },
  {
   "cell_type": "code",
   "execution_count": 6,
   "metadata": {},
   "outputs": [],
   "source": [
    "s7 = data[data['season'] == 7]\n",
    "s8 = data[data['season'] == 8]\n",
    "s9 = data[data['season'] == 9]\n",
    "s10 = data[data['season'] == 10]"
   ]
  },
  {
   "cell_type": "code",
   "execution_count": 7,
   "metadata": {},
   "outputs": [],
   "source": [
    "tqdm.pandas()"
   ]
  },
  {
   "cell_type": "code",
   "execution_count": 9,
   "metadata": {},
   "outputs": [
    {
     "data": {
      "application/vnd.jupyter.widget-view+json": {
       "model_id": "5c5cee2a13824842b3ab50097d6aa3c4",
       "version_major": 2,
       "version_minor": 0
      },
      "text/plain": [
       "  0%|          | 0/6440 [00:00<?, ?it/s]"
      ]
     },
     "metadata": {},
     "output_type": "display_data"
    },
    {
     "name": "stderr",
     "output_type": "stream",
     "text": [
      "You seem to be using the pipelines sequentially on GPU. In order to maximize efficiency please use a dataset\n",
      "C:\\Users\\mahes\\AppData\\Local\\Temp\\ipykernel_18828\\412155731.py:1: SettingWithCopyWarning: \n",
      "A value is trying to be set on a copy of a slice from a DataFrame.\n",
      "Try using .loc[row_indexer,col_indexer] = value instead\n",
      "\n",
      "See the caveats in the documentation: https://pandas.pydata.org/pandas-docs/stable/user_guide/indexing.html#returning-a-view-versus-a-copy\n",
      "  s6[['emotion1', 'emotion1_prob', 'emotion2', 'emotion2_prob']] = s6['quote'].progress_apply(extract_top_2_emotions).apply(pd.Series)\n",
      "C:\\Users\\mahes\\AppData\\Local\\Temp\\ipykernel_18828\\412155731.py:1: SettingWithCopyWarning: \n",
      "A value is trying to be set on a copy of a slice from a DataFrame.\n",
      "Try using .loc[row_indexer,col_indexer] = value instead\n",
      "\n",
      "See the caveats in the documentation: https://pandas.pydata.org/pandas-docs/stable/user_guide/indexing.html#returning-a-view-versus-a-copy\n",
      "  s6[['emotion1', 'emotion1_prob', 'emotion2', 'emotion2_prob']] = s6['quote'].progress_apply(extract_top_2_emotions).apply(pd.Series)\n",
      "C:\\Users\\mahes\\AppData\\Local\\Temp\\ipykernel_18828\\412155731.py:1: SettingWithCopyWarning: \n",
      "A value is trying to be set on a copy of a slice from a DataFrame.\n",
      "Try using .loc[row_indexer,col_indexer] = value instead\n",
      "\n",
      "See the caveats in the documentation: https://pandas.pydata.org/pandas-docs/stable/user_guide/indexing.html#returning-a-view-versus-a-copy\n",
      "  s6[['emotion1', 'emotion1_prob', 'emotion2', 'emotion2_prob']] = s6['quote'].progress_apply(extract_top_2_emotions).apply(pd.Series)\n",
      "C:\\Users\\mahes\\AppData\\Local\\Temp\\ipykernel_18828\\412155731.py:1: SettingWithCopyWarning: \n",
      "A value is trying to be set on a copy of a slice from a DataFrame.\n",
      "Try using .loc[row_indexer,col_indexer] = value instead\n",
      "\n",
      "See the caveats in the documentation: https://pandas.pydata.org/pandas-docs/stable/user_guide/indexing.html#returning-a-view-versus-a-copy\n",
      "  s6[['emotion1', 'emotion1_prob', 'emotion2', 'emotion2_prob']] = s6['quote'].progress_apply(extract_top_2_emotions).apply(pd.Series)\n"
     ]
    }
   ],
   "source": [
    "s6[['emotion1', 'emotion1_prob', 'emotion2', 'emotion2_prob']] = s6['quote'].progress_apply(extract_top_2_emotions).apply(pd.Series)"
   ]
  },
  {
   "cell_type": "code",
   "execution_count": 7,
   "metadata": {},
   "outputs": [
    {
     "data": {
      "application/vnd.jupyter.widget-view+json": {
       "model_id": "598a76aef12d4557a07878f1417ff06c",
       "version_major": 2,
       "version_minor": 0
      },
      "text/plain": [
       "  0%|          | 0/6461 [00:00<?, ?it/s]"
      ]
     },
     "metadata": {},
     "output_type": "display_data"
    },
    {
     "name": "stderr",
     "output_type": "stream",
     "text": [
      "You seem to be using the pipelines sequentially on GPU. In order to maximize efficiency please use a dataset\n",
      "C:\\Users\\mahes\\AppData\\Local\\Temp\\ipykernel_2744\\4088705155.py:1: SettingWithCopyWarning: \n",
      "A value is trying to be set on a copy of a slice from a DataFrame.\n",
      "Try using .loc[row_indexer,col_indexer] = value instead\n",
      "\n",
      "See the caveats in the documentation: https://pandas.pydata.org/pandas-docs/stable/user_guide/indexing.html#returning-a-view-versus-a-copy\n",
      "  s7[['emotion1', 'emotion1_prob', 'emotion2', 'emotion2_prob']] = s7['quote'].progress_apply(extract_top_2_emotions).apply(pd.Series)\n",
      "C:\\Users\\mahes\\AppData\\Local\\Temp\\ipykernel_2744\\4088705155.py:1: SettingWithCopyWarning: \n",
      "A value is trying to be set on a copy of a slice from a DataFrame.\n",
      "Try using .loc[row_indexer,col_indexer] = value instead\n",
      "\n",
      "See the caveats in the documentation: https://pandas.pydata.org/pandas-docs/stable/user_guide/indexing.html#returning-a-view-versus-a-copy\n",
      "  s7[['emotion1', 'emotion1_prob', 'emotion2', 'emotion2_prob']] = s7['quote'].progress_apply(extract_top_2_emotions).apply(pd.Series)\n",
      "C:\\Users\\mahes\\AppData\\Local\\Temp\\ipykernel_2744\\4088705155.py:1: SettingWithCopyWarning: \n",
      "A value is trying to be set on a copy of a slice from a DataFrame.\n",
      "Try using .loc[row_indexer,col_indexer] = value instead\n",
      "\n",
      "See the caveats in the documentation: https://pandas.pydata.org/pandas-docs/stable/user_guide/indexing.html#returning-a-view-versus-a-copy\n",
      "  s7[['emotion1', 'emotion1_prob', 'emotion2', 'emotion2_prob']] = s7['quote'].progress_apply(extract_top_2_emotions).apply(pd.Series)\n",
      "C:\\Users\\mahes\\AppData\\Local\\Temp\\ipykernel_2744\\4088705155.py:1: SettingWithCopyWarning: \n",
      "A value is trying to be set on a copy of a slice from a DataFrame.\n",
      "Try using .loc[row_indexer,col_indexer] = value instead\n",
      "\n",
      "See the caveats in the documentation: https://pandas.pydata.org/pandas-docs/stable/user_guide/indexing.html#returning-a-view-versus-a-copy\n",
      "  s7[['emotion1', 'emotion1_prob', 'emotion2', 'emotion2_prob']] = s7['quote'].progress_apply(extract_top_2_emotions).apply(pd.Series)\n"
     ]
    }
   ],
   "source": [
    "s7[['emotion1', 'emotion1_prob', 'emotion2', 'emotion2_prob']] = s7['quote'].progress_apply(extract_top_2_emotions).apply(pd.Series)"
   ]
  },
  {
   "cell_type": "code",
   "execution_count": 10,
   "metadata": {},
   "outputs": [],
   "source": [
    "s7.reset_index(drop=True, inplace=True)\n",
    "s7.to_csv('s7_emotions.csv', index=False)"
   ]
  },
  {
   "cell_type": "code",
   "execution_count": 8,
   "metadata": {},
   "outputs": [
    {
     "data": {
      "application/vnd.jupyter.widget-view+json": {
       "model_id": "5dc5db67d49f4473ae1e400ecee6678c",
       "version_major": 2,
       "version_minor": 0
      },
      "text/plain": [
       "  0%|          | 0/6107 [00:00<?, ?it/s]"
      ]
     },
     "metadata": {},
     "output_type": "display_data"
    },
    {
     "name": "stderr",
     "output_type": "stream",
     "text": [
      "You seem to be using the pipelines sequentially on GPU. In order to maximize efficiency please use a dataset\n",
      "C:\\Users\\mahes\\AppData\\Local\\Temp\\ipykernel_19196\\3184312988.py:1: SettingWithCopyWarning: \n",
      "A value is trying to be set on a copy of a slice from a DataFrame.\n",
      "Try using .loc[row_indexer,col_indexer] = value instead\n",
      "\n",
      "See the caveats in the documentation: https://pandas.pydata.org/pandas-docs/stable/user_guide/indexing.html#returning-a-view-versus-a-copy\n",
      "  s8[['emotion1', 'emotion1_prob', 'emotion2', 'emotion2_prob']] = s8['quote'].progress_apply(extract_top_2_emotions).apply(pd.Series)\n",
      "C:\\Users\\mahes\\AppData\\Local\\Temp\\ipykernel_19196\\3184312988.py:1: SettingWithCopyWarning: \n",
      "A value is trying to be set on a copy of a slice from a DataFrame.\n",
      "Try using .loc[row_indexer,col_indexer] = value instead\n",
      "\n",
      "See the caveats in the documentation: https://pandas.pydata.org/pandas-docs/stable/user_guide/indexing.html#returning-a-view-versus-a-copy\n",
      "  s8[['emotion1', 'emotion1_prob', 'emotion2', 'emotion2_prob']] = s8['quote'].progress_apply(extract_top_2_emotions).apply(pd.Series)\n",
      "C:\\Users\\mahes\\AppData\\Local\\Temp\\ipykernel_19196\\3184312988.py:1: SettingWithCopyWarning: \n",
      "A value is trying to be set on a copy of a slice from a DataFrame.\n",
      "Try using .loc[row_indexer,col_indexer] = value instead\n",
      "\n",
      "See the caveats in the documentation: https://pandas.pydata.org/pandas-docs/stable/user_guide/indexing.html#returning-a-view-versus-a-copy\n",
      "  s8[['emotion1', 'emotion1_prob', 'emotion2', 'emotion2_prob']] = s8['quote'].progress_apply(extract_top_2_emotions).apply(pd.Series)\n",
      "C:\\Users\\mahes\\AppData\\Local\\Temp\\ipykernel_19196\\3184312988.py:1: SettingWithCopyWarning: \n",
      "A value is trying to be set on a copy of a slice from a DataFrame.\n",
      "Try using .loc[row_indexer,col_indexer] = value instead\n",
      "\n",
      "See the caveats in the documentation: https://pandas.pydata.org/pandas-docs/stable/user_guide/indexing.html#returning-a-view-versus-a-copy\n",
      "  s8[['emotion1', 'emotion1_prob', 'emotion2', 'emotion2_prob']] = s8['quote'].progress_apply(extract_top_2_emotions).apply(pd.Series)\n"
     ]
    }
   ],
   "source": [
    "s8[['emotion1', 'emotion1_prob', 'emotion2', 'emotion2_prob']] = s8['quote'].progress_apply(extract_top_2_emotions).apply(pd.Series)"
   ]
  },
  {
   "cell_type": "code",
   "execution_count": 16,
   "metadata": {},
   "outputs": [],
   "source": [
    "s8.reset_index(drop=True, inplace=True)\n",
    "s8.to_csv('s8_emotions.csv', index=False)"
   ]
  },
  {
   "cell_type": "code",
   "execution_count": 11,
   "metadata": {},
   "outputs": [
    {
     "data": {
      "application/vnd.jupyter.widget-view+json": {
       "model_id": "8b4c126466c043dc97a388243408f361",
       "version_major": 2,
       "version_minor": 0
      },
      "text/plain": [
       "  0%|          | 0/6040 [00:00<?, ?it/s]"
      ]
     },
     "metadata": {},
     "output_type": "display_data"
    },
    {
     "name": "stderr",
     "output_type": "stream",
     "text": [
      "C:\\Users\\mahes\\AppData\\Local\\Temp\\ipykernel_19196\\2628048064.py:1: SettingWithCopyWarning: \n",
      "A value is trying to be set on a copy of a slice from a DataFrame.\n",
      "Try using .loc[row_indexer,col_indexer] = value instead\n",
      "\n",
      "See the caveats in the documentation: https://pandas.pydata.org/pandas-docs/stable/user_guide/indexing.html#returning-a-view-versus-a-copy\n",
      "  s9[['emotion1', 'emotion1_prob', 'emotion2', 'emotion2_prob']] = s9['quote'].progress_apply(extract_top_2_emotions).apply(pd.Series)\n",
      "C:\\Users\\mahes\\AppData\\Local\\Temp\\ipykernel_19196\\2628048064.py:1: SettingWithCopyWarning: \n",
      "A value is trying to be set on a copy of a slice from a DataFrame.\n",
      "Try using .loc[row_indexer,col_indexer] = value instead\n",
      "\n",
      "See the caveats in the documentation: https://pandas.pydata.org/pandas-docs/stable/user_guide/indexing.html#returning-a-view-versus-a-copy\n",
      "  s9[['emotion1', 'emotion1_prob', 'emotion2', 'emotion2_prob']] = s9['quote'].progress_apply(extract_top_2_emotions).apply(pd.Series)\n",
      "C:\\Users\\mahes\\AppData\\Local\\Temp\\ipykernel_19196\\2628048064.py:1: SettingWithCopyWarning: \n",
      "A value is trying to be set on a copy of a slice from a DataFrame.\n",
      "Try using .loc[row_indexer,col_indexer] = value instead\n",
      "\n",
      "See the caveats in the documentation: https://pandas.pydata.org/pandas-docs/stable/user_guide/indexing.html#returning-a-view-versus-a-copy\n",
      "  s9[['emotion1', 'emotion1_prob', 'emotion2', 'emotion2_prob']] = s9['quote'].progress_apply(extract_top_2_emotions).apply(pd.Series)\n",
      "C:\\Users\\mahes\\AppData\\Local\\Temp\\ipykernel_19196\\2628048064.py:1: SettingWithCopyWarning: \n",
      "A value is trying to be set on a copy of a slice from a DataFrame.\n",
      "Try using .loc[row_indexer,col_indexer] = value instead\n",
      "\n",
      "See the caveats in the documentation: https://pandas.pydata.org/pandas-docs/stable/user_guide/indexing.html#returning-a-view-versus-a-copy\n",
      "  s9[['emotion1', 'emotion1_prob', 'emotion2', 'emotion2_prob']] = s9['quote'].progress_apply(extract_top_2_emotions).apply(pd.Series)\n"
     ]
    }
   ],
   "source": [
    "s9[['emotion1', 'emotion1_prob', 'emotion2', 'emotion2_prob']] = s9['quote'].progress_apply(extract_top_2_emotions).apply(pd.Series)"
   ]
  },
  {
   "cell_type": "code",
   "execution_count": 15,
   "metadata": {},
   "outputs": [],
   "source": [
    "s9.reset_index(drop=True, inplace=True)\n",
    "s9.to_csv('s9_emotions.csv', index=False)"
   ]
  },
  {
   "cell_type": "code",
   "execution_count": null,
   "metadata": {},
   "outputs": [],
   "source": []
  },
  {
   "cell_type": "code",
   "execution_count": 13,
   "metadata": {},
   "outputs": [
    {
     "data": {
      "application/vnd.jupyter.widget-view+json": {
       "model_id": "5e55aea2afc14208b1de3ef3f33d04dd",
       "version_major": 2,
       "version_minor": 0
      },
      "text/plain": [
       "  0%|          | 0/5295 [00:00<?, ?it/s]"
      ]
     },
     "metadata": {},
     "output_type": "display_data"
    },
    {
     "name": "stderr",
     "output_type": "stream",
     "text": [
      "C:\\Users\\mahes\\AppData\\Local\\Temp\\ipykernel_19196\\4104278893.py:1: SettingWithCopyWarning: \n",
      "A value is trying to be set on a copy of a slice from a DataFrame.\n",
      "Try using .loc[row_indexer,col_indexer] = value instead\n",
      "\n",
      "See the caveats in the documentation: https://pandas.pydata.org/pandas-docs/stable/user_guide/indexing.html#returning-a-view-versus-a-copy\n",
      "  s10[['emotion1', 'emotion1_prob', 'emotion2', 'emotion2_prob']] = s10['quote'].progress_apply(extract_top_2_emotions).apply(pd.Series)\n",
      "C:\\Users\\mahes\\AppData\\Local\\Temp\\ipykernel_19196\\4104278893.py:1: SettingWithCopyWarning: \n",
      "A value is trying to be set on a copy of a slice from a DataFrame.\n",
      "Try using .loc[row_indexer,col_indexer] = value instead\n",
      "\n",
      "See the caveats in the documentation: https://pandas.pydata.org/pandas-docs/stable/user_guide/indexing.html#returning-a-view-versus-a-copy\n",
      "  s10[['emotion1', 'emotion1_prob', 'emotion2', 'emotion2_prob']] = s10['quote'].progress_apply(extract_top_2_emotions).apply(pd.Series)\n",
      "C:\\Users\\mahes\\AppData\\Local\\Temp\\ipykernel_19196\\4104278893.py:1: SettingWithCopyWarning: \n",
      "A value is trying to be set on a copy of a slice from a DataFrame.\n",
      "Try using .loc[row_indexer,col_indexer] = value instead\n",
      "\n",
      "See the caveats in the documentation: https://pandas.pydata.org/pandas-docs/stable/user_guide/indexing.html#returning-a-view-versus-a-copy\n",
      "  s10[['emotion1', 'emotion1_prob', 'emotion2', 'emotion2_prob']] = s10['quote'].progress_apply(extract_top_2_emotions).apply(pd.Series)\n",
      "C:\\Users\\mahes\\AppData\\Local\\Temp\\ipykernel_19196\\4104278893.py:1: SettingWithCopyWarning: \n",
      "A value is trying to be set on a copy of a slice from a DataFrame.\n",
      "Try using .loc[row_indexer,col_indexer] = value instead\n",
      "\n",
      "See the caveats in the documentation: https://pandas.pydata.org/pandas-docs/stable/user_guide/indexing.html#returning-a-view-versus-a-copy\n",
      "  s10[['emotion1', 'emotion1_prob', 'emotion2', 'emotion2_prob']] = s10['quote'].progress_apply(extract_top_2_emotions).apply(pd.Series)\n"
     ]
    }
   ],
   "source": [
    "s10[['emotion1', 'emotion1_prob', 'emotion2', 'emotion2_prob']] = s10['quote'].progress_apply(extract_top_2_emotions).apply(pd.Series)"
   ]
  },
  {
   "cell_type": "code",
   "execution_count": 14,
   "metadata": {},
   "outputs": [],
   "source": [
    "s10.reset_index(drop=True, inplace=True)\n",
    "s10.to_csv('s10_emotions.csv', index=False)"
   ]
  },
  {
   "cell_type": "code",
   "execution_count": 17,
   "metadata": {},
   "outputs": [],
   "source": [
    "s1_s5 = pd.read_csv('s1-s5_emotions.csv')"
   ]
  },
  {
   "cell_type": "code",
   "execution_count": 18,
   "metadata": {},
   "outputs": [],
   "source": [
    "s6 = pd.read_csv('s6_emotions.csv')\n",
    "s7 = pd.read_csv('s7_emotions.csv')"
   ]
  },
  {
   "cell_type": "code",
   "execution_count": 20,
   "metadata": {},
   "outputs": [
    {
     "name": "stderr",
     "output_type": "stream",
     "text": [
      "C:\\Users\\mahes\\AppData\\Local\\Temp\\ipykernel_19196\\288783253.py:3: SettingWithCopyWarning: \n",
      "A value is trying to be set on a copy of a slice from a DataFrame\n",
      "\n",
      "See the caveats in the documentation: https://pandas.pydata.org/pandas-docs/stable/user_guide/indexing.html#returning-a-view-versus-a-copy\n",
      "  s8.rename(columns={'emotion1': 'top_emotion_1', 'emotion1_prob': 'prob_1', 'emotion2': 'top_emotion_2', 'emotion2_prob': 'prob_2'}, inplace=True)\n",
      "C:\\Users\\mahes\\AppData\\Local\\Temp\\ipykernel_19196\\288783253.py:4: SettingWithCopyWarning: \n",
      "A value is trying to be set on a copy of a slice from a DataFrame\n",
      "\n",
      "See the caveats in the documentation: https://pandas.pydata.org/pandas-docs/stable/user_guide/indexing.html#returning-a-view-versus-a-copy\n",
      "  s9.rename(columns={'emotion1': 'top_emotion_1', 'emotion1_prob': 'prob_1', 'emotion2': 'top_emotion_2', 'emotion2_prob': 'prob_2'}, inplace=True)\n",
      "C:\\Users\\mahes\\AppData\\Local\\Temp\\ipykernel_19196\\288783253.py:5: SettingWithCopyWarning: \n",
      "A value is trying to be set on a copy of a slice from a DataFrame\n",
      "\n",
      "See the caveats in the documentation: https://pandas.pydata.org/pandas-docs/stable/user_guide/indexing.html#returning-a-view-versus-a-copy\n",
      "  s10.rename(columns={'emotion1': 'top_emotion_1', 'emotion1_prob': 'prob_1', 'emotion2': 'top_emotion_2', 'emotion2_prob': 'prob_2'}, inplace=True)\n"
     ]
    }
   ],
   "source": [
    "s6.rename(columns={'emotion1': 'top_emotion_1', 'emotion1_prob': 'prob_1', 'emotion2': 'top_emotion_2', 'emotion2_prob': 'prob_2'}, inplace=True)\n",
    "s7.rename(columns={'emotion1': 'top_emotion_1', 'emotion1_prob': 'prob_1', 'emotion2': 'top_emotion_2', 'emotion2_prob': 'prob_2'}, inplace=True)\n",
    "s8.rename(columns={'emotion1': 'top_emotion_1', 'emotion1_prob': 'prob_1', 'emotion2': 'top_emotion_2', 'emotion2_prob': 'prob_2'}, inplace=True)\n",
    "s9.rename(columns={'emotion1': 'top_emotion_1', 'emotion1_prob': 'prob_1', 'emotion2': 'top_emotion_2', 'emotion2_prob': 'prob_2'}, inplace=True)\n",
    "s10.rename(columns={'emotion1': 'top_emotion_1', 'emotion1_prob': 'prob_1', 'emotion2': 'top_emotion_2', 'emotion2_prob': 'prob_2'}, inplace=True)"
   ]
  },
  {
   "cell_type": "code",
   "execution_count": 21,
   "metadata": {},
   "outputs": [],
   "source": [
    "all_seasons = pd.concat([s1_s5, s6, s7, s8, s9, s10])"
   ]
  },
  {
   "cell_type": "code",
   "execution_count": 26,
   "metadata": {},
   "outputs": [
    {
     "data": {
      "text/html": [
       "<div>\n",
       "<style scoped>\n",
       "    .dataframe tbody tr th:only-of-type {\n",
       "        vertical-align: middle;\n",
       "    }\n",
       "\n",
       "    .dataframe tbody tr th {\n",
       "        vertical-align: top;\n",
       "    }\n",
       "\n",
       "    .dataframe thead th {\n",
       "        text-align: right;\n",
       "    }\n",
       "</style>\n",
       "<table border=\"1\" class=\"dataframe\">\n",
       "  <thead>\n",
       "    <tr style=\"text-align: right;\">\n",
       "      <th></th>\n",
       "      <th>author</th>\n",
       "      <th>episode_number</th>\n",
       "      <th>episode_title</th>\n",
       "      <th>quote</th>\n",
       "      <th>quote_order</th>\n",
       "      <th>season</th>\n",
       "      <th>top_emotion_1</th>\n",
       "      <th>prob_1</th>\n",
       "      <th>top_emotion_2</th>\n",
       "      <th>prob_2</th>\n",
       "    </tr>\n",
       "  </thead>\n",
       "  <tbody>\n",
       "    <tr>\n",
       "      <th>0</th>\n",
       "      <td>Monica</td>\n",
       "      <td>1.0</td>\n",
       "      <td>Monica Gets A Roommate</td>\n",
       "      <td>There's nothing to tell! He's just some guy I ...</td>\n",
       "      <td>0.0</td>\n",
       "      <td>1.0</td>\n",
       "      <td>relaxed</td>\n",
       "      <td>0.455074</td>\n",
       "      <td>content</td>\n",
       "      <td>0.193351</td>\n",
       "    </tr>\n",
       "    <tr>\n",
       "      <th>1</th>\n",
       "      <td>Joey</td>\n",
       "      <td>1.0</td>\n",
       "      <td>Monica Gets A Roommate</td>\n",
       "      <td>C'mon, you're going out with the guy! There's ...</td>\n",
       "      <td>1.0</td>\n",
       "      <td>1.0</td>\n",
       "      <td>tense</td>\n",
       "      <td>0.199686</td>\n",
       "      <td>surprised</td>\n",
       "      <td>0.155179</td>\n",
       "    </tr>\n",
       "    <tr>\n",
       "      <th>2</th>\n",
       "      <td>Chandler</td>\n",
       "      <td>1.0</td>\n",
       "      <td>Monica Gets A Roommate</td>\n",
       "      <td>All right Joey, be nice. So does he have a hum...</td>\n",
       "      <td>2.0</td>\n",
       "      <td>1.0</td>\n",
       "      <td>confused</td>\n",
       "      <td>0.389611</td>\n",
       "      <td>aroused</td>\n",
       "      <td>0.197605</td>\n",
       "    </tr>\n",
       "    <tr>\n",
       "      <th>3</th>\n",
       "      <td>Phoebe</td>\n",
       "      <td>1.0</td>\n",
       "      <td>Monica Gets A Roommate</td>\n",
       "      <td>Wait, does he eat chalk?</td>\n",
       "      <td>3.0</td>\n",
       "      <td>1.0</td>\n",
       "      <td>confused</td>\n",
       "      <td>0.439212</td>\n",
       "      <td>surprised</td>\n",
       "      <td>0.289001</td>\n",
       "    </tr>\n",
       "    <tr>\n",
       "      <th>4</th>\n",
       "      <td>Phoebe</td>\n",
       "      <td>1.0</td>\n",
       "      <td>Monica Gets A Roommate</td>\n",
       "      <td>Just, 'cause, I don't want her to go through w...</td>\n",
       "      <td>4.0</td>\n",
       "      <td>1.0</td>\n",
       "      <td>surprised</td>\n",
       "      <td>0.202174</td>\n",
       "      <td>confused</td>\n",
       "      <td>0.194774</td>\n",
       "    </tr>\n",
       "  </tbody>\n",
       "</table>\n",
       "</div>"
      ],
      "text/plain": [
       "     author  episode_number           episode_title  \\\n",
       "0    Monica             1.0  Monica Gets A Roommate   \n",
       "1      Joey             1.0  Monica Gets A Roommate   \n",
       "2  Chandler             1.0  Monica Gets A Roommate   \n",
       "3    Phoebe             1.0  Monica Gets A Roommate   \n",
       "4    Phoebe             1.0  Monica Gets A Roommate   \n",
       "\n",
       "                                               quote  quote_order  season  \\\n",
       "0  There's nothing to tell! He's just some guy I ...          0.0     1.0   \n",
       "1  C'mon, you're going out with the guy! There's ...          1.0     1.0   \n",
       "2  All right Joey, be nice. So does he have a hum...          2.0     1.0   \n",
       "3                           Wait, does he eat chalk?          3.0     1.0   \n",
       "4  Just, 'cause, I don't want her to go through w...          4.0     1.0   \n",
       "\n",
       "  top_emotion_1    prob_1 top_emotion_2    prob_2  \n",
       "0       relaxed  0.455074       content  0.193351  \n",
       "1         tense  0.199686     surprised  0.155179  \n",
       "2      confused  0.389611       aroused  0.197605  \n",
       "3      confused  0.439212     surprised  0.289001  \n",
       "4     surprised  0.202174      confused  0.194774  "
      ]
     },
     "execution_count": 26,
     "metadata": {},
     "output_type": "execute_result"
    }
   ],
   "source": [
    "all_seasons.head()"
   ]
  },
  {
   "cell_type": "code",
   "execution_count": 27,
   "metadata": {},
   "outputs": [
    {
     "data": {
      "text/plain": [
       "array([ 1.,  2.,  3.,  4.,  5.,  6.,  7.,  8.,  9., 10., 11., 12., 13.,\n",
       "       14., 15., 16., 17., 18., 19., 20., 21., 22., 23., 24., 25.])"
      ]
     },
     "execution_count": 27,
     "metadata": {},
     "output_type": "execute_result"
    }
   ],
   "source": [
    "all_seasons['episode_number'].unique()"
   ]
  },
  {
   "cell_type": "code",
   "execution_count": 28,
   "metadata": {},
   "outputs": [],
   "source": [
    "all_seasons.to_csv('friends_emotions.csv', index=False)"
   ]
  },
  {
   "cell_type": "code",
   "execution_count": null,
   "metadata": {},
   "outputs": [
    {
     "name": "stderr",
     "output_type": "stream",
     "text": [
      " 98%|█████████▊| 61/62 [2:43:59<02:57, 177.59s/it]  C:\\Users\\mahes\\AppData\\Local\\Temp\\ipykernel_1260\\1381268049.py:7: SettingWithCopyWarning: \n",
      "A value is trying to be set on a copy of a slice from a DataFrame.\n",
      "Try using .loc[row_indexer,col_indexer] = value instead\n",
      "\n",
      "See the caveats in the documentation: https://pandas.pydata.org/pandas-docs/stable/user_guide/indexing.html#returning-a-view-versus-a-copy\n",
      "  chunk[['emotion1', 'emotion1_prob', 'emotion2', 'emotion2_prob']] = chunk['quote'].apply(extract_top_2_emotions).apply(pd.Series)\n",
      "C:\\Users\\mahes\\AppData\\Local\\Temp\\ipykernel_1260\\1381268049.py:7: SettingWithCopyWarning: \n",
      "A value is trying to be set on a copy of a slice from a DataFrame.\n",
      "Try using .loc[row_indexer,col_indexer] = value instead\n",
      "\n",
      "See the caveats in the documentation: https://pandas.pydata.org/pandas-docs/stable/user_guide/indexing.html#returning-a-view-versus-a-copy\n",
      "  chunk[['emotion1', 'emotion1_prob', 'emotion2', 'emotion2_prob']] = chunk['quote'].apply(extract_top_2_emotions).apply(pd.Series)\n",
      "C:\\Users\\mahes\\AppData\\Local\\Temp\\ipykernel_1260\\1381268049.py:7: SettingWithCopyWarning: \n",
      "A value is trying to be set on a copy of a slice from a DataFrame.\n",
      "Try using .loc[row_indexer,col_indexer] = value instead\n",
      "\n",
      "See the caveats in the documentation: https://pandas.pydata.org/pandas-docs/stable/user_guide/indexing.html#returning-a-view-versus-a-copy\n",
      "  chunk[['emotion1', 'emotion1_prob', 'emotion2', 'emotion2_prob']] = chunk['quote'].apply(extract_top_2_emotions).apply(pd.Series)\n",
      "C:\\Users\\mahes\\AppData\\Local\\Temp\\ipykernel_1260\\1381268049.py:7: SettingWithCopyWarning: \n",
      "A value is trying to be set on a copy of a slice from a DataFrame.\n",
      "Try using .loc[row_indexer,col_indexer] = value instead\n",
      "\n",
      "See the caveats in the documentation: https://pandas.pydata.org/pandas-docs/stable/user_guide/indexing.html#returning-a-view-versus-a-copy\n",
      "  chunk[['emotion1', 'emotion1_prob', 'emotion2', 'emotion2_prob']] = chunk['quote'].apply(extract_top_2_emotions).apply(pd.Series)\n",
      "100%|██████████| 62/62 [2:45:33<00:00, 160.22s/it]\n"
     ]
    }
   ],
   "source": [
    "for start in tqdm(arange(0, len(s5), 100)):\n",
    "    slice = arange(start, start+100, 1)\n",
    "    try:\n",
    "        chunk = s5.loc[slice,:]\n",
    "    except KeyError:\n",
    "        chunk = s5.loc[start:, :]\n",
    "    chunk[['emotion1', 'emotion1_prob', 'emotion2', 'emotion2_prob']] = chunk['quote'].apply(extract_top_2_emotions).apply(pd.Series)\n",
    "    df = pd.concat([df, chunk])"
   ]
  },
  {
   "cell_type": "code",
   "execution_count": 113,
   "metadata": {},
   "outputs": [],
   "source": [
    "df.to_excel('s5_emotions.xlsx', index=False)"
   ]
  },
  {
   "cell_type": "code",
   "execution_count": 115,
   "metadata": {},
   "outputs": [],
   "source": [
    "s1 = pd.read_excel('s1_emotions.xlsx')\n",
    "s2 = pd.read_excel('s2_emotions.xlsx')\n",
    "s3 = pd.read_csv('s3_emotions.csv')\n",
    "s5 = pd.read_excel('s5_emotions.xlsx')"
   ]
  },
  {
   "cell_type": "code",
   "execution_count": 117,
   "metadata": {},
   "outputs": [],
   "source": [
    "s3.drop('Unnamed: 0', axis=1, inplace=True)"
   ]
  },
  {
   "cell_type": "code",
   "execution_count": 128,
   "metadata": {},
   "outputs": [
    {
     "data": {
      "text/plain": [
       "np.True_"
      ]
     },
     "execution_count": 128,
     "metadata": {},
     "output_type": "execute_result"
    }
   ],
   "source": [
    "(s1.columns == s2.columns).all() and (s2.columns == s3.columns).all() and (s3.columns == s5.columns).all()"
   ]
  },
  {
   "cell_type": "code",
   "execution_count": 129,
   "metadata": {},
   "outputs": [],
   "source": [
    "compiled = pd.concat([s1, s2, s3, s5])"
   ]
  },
  {
   "cell_type": "code",
   "execution_count": 131,
   "metadata": {},
   "outputs": [],
   "source": [
    "compiled.to_csv('s1-s5_emotions_no_s4.csv', index=False)"
   ]
  }
 ],
 "metadata": {
  "kernelspec": {
   "display_name": ".venv",
   "language": "python",
   "name": "python3"
  },
  "language_info": {
   "codemirror_mode": {
    "name": "ipython",
    "version": 3
   },
   "file_extension": ".py",
   "mimetype": "text/x-python",
   "name": "python",
   "nbconvert_exporter": "python",
   "pygments_lexer": "ipython3",
   "version": "3.12.7"
  }
 },
 "nbformat": 4,
 "nbformat_minor": 2
}
